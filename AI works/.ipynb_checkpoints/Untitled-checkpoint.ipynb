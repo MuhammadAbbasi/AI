{
 "cells": [
  {
   "cell_type": "code",
   "execution_count": 1,
   "metadata": {},
   "outputs": [
    {
     "ename": "ImportError",
     "evalue": "No module named 'dlib'",
     "output_type": "error",
     "traceback": [
      "\u001b[1;31m---------------------------------------------------------------------------\u001b[0m",
      "\u001b[1;31mImportError\u001b[0m                               Traceback (most recent call last)",
      "\u001b[1;32m<ipython-input-1-b48732cf4870>\u001b[0m in \u001b[0;36m<module>\u001b[1;34m()\u001b[0m\n\u001b[0;32m      1\u001b[0m \u001b[1;31m#dlib based smile picture taker in real time\u001b[0m\u001b[1;33m\u001b[0m\u001b[1;33m\u001b[0m\u001b[0m\n\u001b[0;32m      2\u001b[0m \u001b[1;32mimport\u001b[0m \u001b[0mcv2\u001b[0m\u001b[1;33m\u001b[0m\u001b[0m\n\u001b[1;32m----> 3\u001b[1;33m \u001b[1;32mimport\u001b[0m \u001b[0mdlib\u001b[0m\u001b[1;33m\u001b[0m\u001b[0m\n\u001b[0m\u001b[0;32m      4\u001b[0m \u001b[1;32mimport\u001b[0m \u001b[0mnumpy\u001b[0m \u001b[1;32mas\u001b[0m \u001b[0mnp\u001b[0m\u001b[1;33m\u001b[0m\u001b[0m\n\u001b[0;32m      5\u001b[0m \u001b[0mPREDICTOR_PATH\u001b[0m \u001b[1;33m=\u001b[0m \u001b[1;34m\"shape_predictor_68_face_landmarks.dat\"\u001b[0m\u001b[1;33m\u001b[0m\u001b[0m\n",
      "\u001b[1;31mImportError\u001b[0m: No module named 'dlib'"
     ]
    }
   ],
   "source": [
    "#dlib based smile picture taker in real time\n",
    "import cv2\n",
    "import dlib\n",
    "import numpy as np\n",
    "PREDICTOR_PATH = \"shape_predictor_68_face_landmarks.dat\"\n",
    "\n",
    "predictor = dlib.shape_predictor(PREDICTOR_PATH)\n",
    "face_cascade = cv2.CascadeClassifier('haarcascade_frontalface_default.xml')\n",
    "\n",
    "\n",
    "def shapetocord(dsahpe):\n",
    "    # initialize the list of (x, y)-coordinates\n",
    "    cords = np.zeros((68, 2),dtype='int')\n",
    "\n",
    "    # loop over the 68 facial landmarks and convert them to a 2-tuple of (x, y)-coordinates\n",
    "    for i in range(0, 68):\n",
    "        cords[i] = (dshape.part(i).x,dshape.part(i).y)  \n",
    "        \n",
    "    # return the list of (x, y) tuple-coordinates\n",
    "    return cords\n",
    "\n",
    "cap = cv2.VideoCapture(0)\n",
    "frames=25\n",
    "varr='none'\n",
    "smm=False\n",
    "cv2.namedWindow('frame', cv2.WINDOW_NORMAL)\n",
    "while(True):\n",
    "    ret, image = cap.read()\n",
    "    #image = cv2.flip(image, 1 ) \n",
    "    cv2.putText(image, str(varr), (20, 20),fontFace=cv2.FONT_HERSHEY_SCRIPT_SIMPLEX,fontScale=0.3,color=(0, 0, 255))\n",
    "    if ret:\n",
    "        gray = cv2.cvtColor(image, cv2.COLOR_BGR2GRAY)\n",
    "        faces = face_cascade.detectMultiScale(gray, 1.3, 5)\n",
    "        #faces = detector(gray, 1)       \n",
    "\n",
    "        for x,y,w,h in faces:\n",
    "        #for face in faces:   \n",
    "           \n",
    "            \n",
    "            # cv2.rectangle(image, (x, y), (x + w, y + h), (0, 255, 0), 2) \n",
    "            rect = dlib.rectangle(int(x), int(y), int(x + w), int(y + h)) \n",
    "            dshape  = predictor(gray ,rect )\n",
    "            #dshape  = predictor(gray ,face )\n",
    "\n",
    "            cord = shapetocord(dshape)\n",
    "            for i ,(x, y) in enumerate(cord): # looping over x and y cordinated and drawing them\n",
    "                #cv2.circle(image, (x, y), 1, (0, 0, 255), -1)\n",
    "               # cv2.putText(image, str(i), (x, y),fontFace=cv2.FONT_HERSHEY_SCRIPT_SIMPLEX,fontScale=0.2,color=(0, 0, 255))\n",
    "                smile = (cord[54][0] - cord[48][0]) / (cord[15][0] - cord[1][0])\n",
    "                if smile > 0.40 and smm==False: \n",
    "                    smm = True\n",
    "                    saver =image.copy()  \n",
    "                     \n",
    "                #cv2.circle(image,tuple(cord[48]), 2, (0, 0, 255), -1)\n",
    "                #cv2.circle(image,tuple(cord[54]), 2, (0, 0, 255), -1)\n",
    "\n",
    "\n",
    "                varr=smile \n",
    "\n",
    "        cv2.imshow('frame',image)\n",
    "        if smm and frames > 0:\n",
    "            cv2.imshow('Saved',saver)\n",
    "            frames-=1\n",
    "\n",
    "        else:\n",
    "            frames = 25\n",
    "            smm = False\n",
    "            #cv2.imwrite('smilesave.jpg',saver)  uncomment this to actually save the picture in disk\n",
    "            cv2.destroyWindow('Saved')\n",
    "\n",
    "    if cv2.waitKey(10) & 0xFF == ord('q'):\n",
    "        break\n",
    "    if cv2.waitKey(10) & 0xFF == ord('q'):\n",
    "        break    \n",
    "cap.release()\n",
    "cv2.destroyAllWindows()"
   ]
  },
  {
   "cell_type": "code",
   "execution_count": 3,
   "metadata": {},
   "outputs": [
    {
     "ename": "ImportError",
     "evalue": "No module named 'dlib'",
     "output_type": "error",
     "traceback": [
      "\u001b[1;31m---------------------------------------------------------------------------\u001b[0m",
      "\u001b[1;31mImportError\u001b[0m                               Traceback (most recent call last)",
      "\u001b[1;32m<ipython-input-3-d25f48e861da>\u001b[0m in \u001b[0;36m<module>\u001b[1;34m()\u001b[0m\n\u001b[1;32m----> 1\u001b[1;33m \u001b[1;32mimport\u001b[0m \u001b[0mdlib\u001b[0m\u001b[1;33m\u001b[0m\u001b[0m\n\u001b[0m",
      "\u001b[1;31mImportError\u001b[0m: No module named 'dlib'"
     ]
    }
   ],
   "source": [
    "import dlib"
   ]
  },
  {
   "cell_type": "code",
   "execution_count": null,
   "metadata": {},
   "outputs": [],
   "source": []
  }
 ],
 "metadata": {
  "kernelspec": {
   "display_name": "Python 3",
   "language": "python",
   "name": "python3"
  },
  "language_info": {
   "codemirror_mode": {
    "name": "ipython",
    "version": 3
   },
   "file_extension": ".py",
   "mimetype": "text/x-python",
   "name": "python",
   "nbconvert_exporter": "python",
   "pygments_lexer": "ipython3",
   "version": "3.5.6"
  }
 },
 "nbformat": 4,
 "nbformat_minor": 2
}
