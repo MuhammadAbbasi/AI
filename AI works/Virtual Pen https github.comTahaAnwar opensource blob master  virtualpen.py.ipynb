{
 "cells": [
  {
   "cell_type": "code",
   "execution_count": 2,
   "metadata": {},
   "outputs": [
    {
     "ename": "NameError",
     "evalue": "name 'cv2' is not defined",
     "output_type": "error",
     "traceback": [
      "\u001b[1;31m---------------------------------------------------------------------------\u001b[0m",
      "\u001b[1;31mNameError\u001b[0m                                 Traceback (most recent call last)",
      "\u001b[1;32m<ipython-input-2-1fe8e05a497a>\u001b[0m in \u001b[0;36m<module>\u001b[1;34m()\u001b[0m\n\u001b[0;32m      6\u001b[0m     \u001b[1;32mpass\u001b[0m\u001b[1;33m\u001b[0m\u001b[0m\n\u001b[0;32m      7\u001b[0m \u001b[1;32mimport\u001b[0m \u001b[0mtime\u001b[0m\u001b[1;33m\u001b[0m\u001b[0m\n\u001b[1;32m----> 8\u001b[1;33m \u001b[0mcap\u001b[0m \u001b[1;33m=\u001b[0m \u001b[0mcv2\u001b[0m\u001b[1;33m.\u001b[0m\u001b[0mVideoCapture\u001b[0m\u001b[1;33m(\u001b[0m\u001b[1;36m0\u001b[0m\u001b[1;33m)\u001b[0m\u001b[1;33m\u001b[0m\u001b[0m\n\u001b[0m\u001b[0;32m      9\u001b[0m \u001b[0mkernel\u001b[0m \u001b[1;33m=\u001b[0m \u001b[0mnp\u001b[0m\u001b[1;33m.\u001b[0m\u001b[0mones\u001b[0m\u001b[1;33m(\u001b[0m\u001b[1;33m(\u001b[0m\u001b[1;36m5\u001b[0m\u001b[1;33m,\u001b[0m\u001b[1;36m5\u001b[0m\u001b[1;33m)\u001b[0m\u001b[1;33m,\u001b[0m\u001b[0mnp\u001b[0m\u001b[1;33m.\u001b[0m\u001b[0muint8\u001b[0m\u001b[1;33m)\u001b[0m\u001b[1;33m\u001b[0m\u001b[0m\n\u001b[0;32m     10\u001b[0m \u001b[0mcv2\u001b[0m\u001b[1;33m.\u001b[0m\u001b[0mnamedWindow\u001b[0m\u001b[1;33m(\u001b[0m\u001b[1;34m'image2'\u001b[0m\u001b[1;33m,\u001b[0m \u001b[0mcv2\u001b[0m\u001b[1;33m.\u001b[0m\u001b[0mWINDOW_NORMAL\u001b[0m\u001b[1;33m)\u001b[0m\u001b[1;33m\u001b[0m\u001b[0m\n",
      "\u001b[1;31mNameError\u001b[0m: name 'cv2' is not defined"
     ]
    }
   ],
   "source": [
    "#import cv2\n",
    "import numpy as np\n",
    "try:\n",
    "    cap.release() \n",
    "except:\n",
    "    pass\n",
    "import time\n",
    "cap = cv2.VideoCapture(0)\n",
    "kernel = np.ones((5,5),np.uint8)\n",
    "cv2.namedWindow('image2', cv2.WINDOW_NORMAL)\n",
    "canvas=None\n",
    "pt1,pt2=0,0\n",
    "clear=False\n",
    "while(1):\n",
    "    \n",
    "    # Take each frame\n",
    "    _, frame = cap.read()\n",
    "    frame = cv2.flip( frame, 1 )\n",
    "    \n",
    "    if canvas is None:\n",
    "        canvas = np.zeros_like(frame)\n",
    "\n",
    "    # Convert BGR to HSV\n",
    "    hsv = cv2.cvtColor(frame, cv2.COLOR_BGR2HSV)\n",
    "\n",
    "    lower_red = np.array([26,80,147])\n",
    "    upper_red = np.array([81,255,255])\n",
    "    \n",
    "    mask = cv2.inRange(hsv, lower_red, upper_red)\n",
    "    mask = cv2.erode(mask,kernel,iterations = 1)\n",
    "    mask = cv2.dilate(mask,kernel,iterations = 2)\n",
    "    _,contours, hierarchy = cv2.findContours(mask,cv2.RETR_EXTERNAL,cv2.CHAIN_APPROX_SIMPLE)\n",
    "    if len(contours) >0:\n",
    "        \n",
    "        c = max(contours, key = cv2.contourArea)\n",
    "        x,y,w,h = cv2.boundingRect(c)\n",
    "        #cv2.rectangle(frame,(x,y),(x+w,y+h),(0,255,0),2)\n",
    "        area = cv2.contourArea(c)\n",
    "        \n",
    "        if pt1 == 0 and pt2 == 0:\n",
    "            pt1,pt2= x,y\n",
    "        else:\n",
    "            canvas = cv2.line(canvas, (pt1,pt2),(x,y), [0,255,0], 2)\n",
    "        pt1,pt2= x,y\n",
    "        \n",
    "        if area > 50000:\n",
    "               cv2.putText(canvas,'Clearing Canvas',(100,200), cv2.FONT_HERSHEY_SIMPLEX, 2, (0,0,255), 5, cv2.LINE_AA)\n",
    "               clear = True\n",
    "       # print(area)\n",
    "    else:\n",
    "        pt1 , pt2 =0,0\n",
    "        \n",
    "        \n",
    "   # print(frame.shape,mask.shape)\n",
    "    \n",
    "    # Bitwise-AND mask and original image\n",
    "    res = cv2.bitwise_and(frame,frame, mask= mask)\n",
    "    #print(res.shape)\n",
    "    frame = cv2.add(frame,canvas)\n",
    "    cv2.imshow('image2',frame)\n",
    "    #cv2.imshow('mask',mask)\n",
    "    if clear == True:\n",
    "        time.sleep(0.8)\n",
    "        canvas = np.zeros_like(frame)\n",
    "        clear = False\n",
    "        \n",
    "    #cv2.imshow('res',res)\n",
    "    k = cv2.waitKey(5) & 0xFF\n",
    "    if k == 27:\n",
    "        break\n",
    "\n",
    "cv2.destroyAllWindows()\n",
    "cap.release()"
   ]
  },
  {
   "cell_type": "code",
   "execution_count": null,
   "metadata": {},
   "outputs": [],
   "source": []
  }
 ],
 "metadata": {
  "kernelspec": {
   "display_name": "Python 3",
   "language": "python",
   "name": "python3"
  },
  "language_info": {
   "codemirror_mode": {
    "name": "ipython",
    "version": 3
   },
   "file_extension": ".py",
   "mimetype": "text/x-python",
   "name": "python",
   "nbconvert_exporter": "python",
   "pygments_lexer": "ipython3",
   "version": "3.6.5"
  }
 },
 "nbformat": 4,
 "nbformat_minor": 2
}
