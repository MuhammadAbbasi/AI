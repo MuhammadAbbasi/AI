{
 "cells": [
  {
   "cell_type": "markdown",
   "metadata": {
    "colab_type": "text",
    "id": "6S31EekpNi2p"
   },
   "source": [
    "# **Abstraction and Encapsulation**"
   ]
  },
  {
   "cell_type": "code",
   "execution_count": 0,
   "metadata": {
    "colab": {},
    "colab_type": "code",
    "id": "NUTZSe7EKXci"
   },
   "outputs": [],
   "source": [
    "class Library():\n",
    "    def __init__(self , list_of_books):\n",
    "    \n",
    "        self.available_books = list_of_books\n",
    "   \n",
    "  def display_available_books(self):\n",
    "    print('_________________')\n",
    "    print('Available Books :')\n",
    "    print('_________________')\n",
    "    for book in self.available_books:\n",
    "      print(book)\n",
    "      \n",
    "\n",
    "  \n",
    "  def land_book(self , requested_book):\n",
    "    if requested_book in self.available_books:\n",
    "      print('You have now borrowed the book')\n",
    "      self.available_books.remove(requested_book)\n",
    "    else:\n",
    "      print('Sorry the book is not available in our store')\n",
    "  \n",
    "  def add_book(self , returned_book):\n",
    "    self.available_books.append(returned_book)\n",
    "    print('You have returned the book.... Thank you')\n",
    "  \n",
    "  "
   ]
  },
  {
   "cell_type": "markdown",
   "metadata": {
    "colab_type": "text",
    "id": "Tg9A7vVlSfBq"
   },
   "source": []
  },
  {
   "cell_type": "code",
   "execution_count": 0,
   "metadata": {
    "colab": {},
    "colab_type": "code",
    "id": "caL7JtaKKXgB"
   },
   "outputs": [],
   "source": [
    "class Customer():\n",
    "  \n",
    "  def request_book(self):\n",
    "    print('Enter a name of a book you would like to borrow:')\n",
    "    self.book = input()\n",
    "    return self.book\n",
    "  \n",
    "  def return_book(self):\n",
    "    print('Enter a name of book which you are returning:')\n",
    "    self.book = input()\n",
    "    return self.book\n"
   ]
  },
  {
   "cell_type": "code",
   "execution_count": 0,
   "metadata": {
    "colab": {},
    "colab_type": "code",
    "id": "WsFyo3fDKXip"
   },
   "outputs": [],
   "source": [
    "list_of_books = ['Think and grow rich' , 'Who will cry when you die' , 'For one more day']\n",
    "library = Library(list_of_books)"
   ]
  },
  {
   "cell_type": "code",
   "execution_count": 0,
   "metadata": {
    "colab": {},
    "colab_type": "code",
    "id": "2BRNiR6-PbES"
   },
   "outputs": [],
   "source": [
    "customer = Customer()"
   ]
  },
  {
   "cell_type": "code",
   "execution_count": 0,
   "metadata": {
    "colab": {
     "base_uri": "https://localhost:8080/",
     "height": 787
    },
    "colab_type": "code",
    "id": "kJt7tRooVI68",
    "outputId": "0567564d-cc5c-4b3f-85b6-039adf8e3e58"
   },
   "outputs": [
    {
     "name": "stdout",
     "output_type": "stream",
     "text": [
      "--Enter 1 to display the available books\n",
      "--Enter 2 to request for the book\n",
      "--Enter 3 to return a book\n",
      "--Enter 4 to exit\n",
      "1\n",
      "__________\n",
      "Available Bokks :\n",
      "__________\n",
      "Think and grow rich\n",
      "Who will cry when you die\n",
      "For one more day\n",
      "--Enter 1 to display the available books\n",
      "--Enter 2 to request for the book\n",
      "--Enter 3 to return a book\n",
      "--Enter 4 to exit\n",
      "1\n",
      "__________\n",
      "Available Bokks :\n",
      "__________\n",
      "Think and grow rich\n",
      "Who will cry when you die\n",
      "For one more day\n",
      "--Enter 1 to display the available books\n",
      "--Enter 2 to request for the book\n",
      "--Enter 3 to return a book\n",
      "--Enter 4 to exit\n",
      "2\n",
      "Enter a name of a book you would like to borrow:\n",
      "Think and grow rich\n",
      "You have now borrowed the book\n",
      "--Enter 1 to display the available books\n",
      "--Enter 2 to request for the book\n",
      "--Enter 3 to return a book\n",
      "--Enter 4 to exit\n",
      "1\n",
      "__________\n",
      "Available Bokks :\n",
      "__________\n",
      "Who will cry when you die\n",
      "For one more day\n",
      "--Enter 1 to display the available books\n",
      "--Enter 2 to request for the book\n",
      "--Enter 3 to return a book\n",
      "--Enter 4 to exit\n"
     ]
    }
   ],
   "source": [
    "print('--Enter 1 to display the available books')\n",
    "print('--Enter 2 to request for the book')\n",
    "print('--Enter 3 to return a book')\n",
    "print('--Enter 4 to exit')\n",
    "while True:\n",
    "  user_choice = int(input())\n",
    "  if user_choice is 1:\n",
    "    library.display_available_books()\n",
    "  elif user_choice is 2:\n",
    "    requested_book = customer.request_book()\n",
    "    library.land_book(requested_book)\n",
    "  elif user_choice is 3:\n",
    "    returned_book = customer.return_book()\n",
    "    library.add_book(returned_book)\n",
    "  elif user_choice is 4:\n",
    "    quit()"
   ]
  },
  {
   "cell_type": "code",
   "execution_count": 0,
   "metadata": {
    "colab": {},
    "colab_type": "code",
    "id": "v-NEAulyzk-0"
   },
   "outputs": [],
   "source": []
  },
  {
   "cell_type": "markdown",
   "metadata": {
    "colab_type": "text",
    "id": "u0ElWoYHzr_Z"
   },
   "source": [
    "# Iterators and Generators"
   ]
  },
  {
   "cell_type": "code",
   "execution_count": 1,
   "metadata": {
    "colab": {
     "base_uri": "https://localhost:8080/",
     "height": 153
    },
    "colab_type": "code",
    "id": "p2gjyujDzyV4",
    "outputId": "a3de5652-ed0b-4a09-e2fa-3cf2d127c5f5"
   },
   "outputs": [
    {
     "name": "stdout",
     "output_type": "stream",
     "text": [
      "location: Paris\n",
      "location: Berlin\n",
      "location: Hamburg\n",
      "location: Frankfurt\n",
      "location: London\n",
      "location: Vienna\n",
      "location: Amsterdam\n",
      "location: Den Haag\n"
     ]
    }
   ],
   "source": [
    "cities = [\"Paris\", \"Berlin\", \"Hamburg\", \"Frankfurt\", \"London\", \"Vienna\", \"Amsterdam\", \"Den Haag\"]\n",
    "for location in cities:\n",
    "  print(\"location: \" + location)"
   ]
  },
  {
   "cell_type": "code",
   "execution_count": 6,
   "metadata": {
    "colab": {
     "base_uri": "https://localhost:8080/",
     "height": 34
    },
    "colab_type": "code",
    "id": "8MQFjXZV0IeL",
    "outputId": "b6825f1b-c951-4dcc-f1bc-935f4c90c3da"
   },
   "outputs": [
    {
     "data": {
      "text/plain": [
       "'Beginner'"
      ]
     },
     "execution_count": 6,
     "metadata": {
      "tags": []
     },
     "output_type": "execute_result"
    }
   ],
   "source": [
    "expertises = [\"Novice\", \"Beginner\", \"Intermediate\", \"Proficient\", \"Experienced\", \"Advanced\"]\n",
    "expertises_iterator = iter(expertises)\n",
    "next(expertises_iterator)\n",
    "\n",
    "next(expertises_iterator)\n",
    "\n",
    "# 0333-3711530\n"
   ]
  },
  {
   "cell_type": "code",
   "execution_count": 1,
   "metadata": {
    "colab": {
     "base_uri": "https://localhost:8080/",
     "height": 136
    },
    "colab_type": "code",
    "id": "NR78VVFc2KQU",
    "outputId": "d75f1ee7-120b-4bd2-8e9a-5804dc538480"
   },
   "outputs": [
    {
     "name": "stdout",
     "output_type": "stream",
     "text": [
      "Strasbourg\n",
      "Freiburg\n",
      "Stuttgart\n",
      "Vienna / Wien\n",
      "Hannover\n",
      "Berlin\n",
      "Zurich\n"
     ]
    }
   ],
   "source": [
    "other_cities = [\"Strasbourg\", \"Freiburg\", \"Stuttgart\", \"Vienna / Wien\", \"Hannover\", \"Berlin\", \"Zurich\"]\n",
    "\n",
    "city_iterator = iter(other_cities)\n",
    "while city_iterator:\n",
    "    try:\n",
    "        city = next(city_iterator)\n",
    "        print(city)\n",
    "    except StopIteration:\n",
    "      break"
   ]
  },
  {
   "cell_type": "code",
   "execution_count": 6,
   "metadata": {
    "colab": {
     "base_uri": "https://localhost:8080/",
     "height": 34
    },
    "colab_type": "code",
    "id": "CKSlXJGX57Hz",
    "outputId": "1f8057cf-937f-47d8-b222-633f0bd0373a"
   },
   "outputs": [
    {
     "data": {
      "text/plain": [
       "'France'"
      ]
     },
     "execution_count": 6,
     "metadata": {
      "tags": []
     },
     "output_type": "execute_result"
    }
   ],
   "source": [
    "capitals = { \"France\":\"Paris\", \"Netherlands\":\"Amsterdam\", \"Germany\":\"Berlin\", \"Switzerland\":\"Bern\", \"Austria\":\"Vienna\"}\n",
    "\n",
    "new_iter = iter(capitals)\n",
    "next(new_iter)\n",
    "\n"
   ]
  },
  {
   "cell_type": "code",
   "execution_count": 11,
   "metadata": {
    "colab": {
     "base_uri": "https://localhost:8080/",
     "height": 34
    },
    "colab_type": "code",
    "id": "H_B_6ndo7wBb",
    "outputId": "e1737dfa-3d31-43e1-d14a-af5e26705190"
   },
   "outputs": [
    {
     "name": "stdout",
     "output_type": "stream",
     "text": [
      "<generator object city_generator at 0x7fa262316728>\n"
     ]
    }
   ],
   "source": [
    "def city_generator():\n",
    "    yield(\"London\")\n",
    "    yield(\"Hamburg\")\n",
    "    yield(\"Konstanz\")\n",
    "    yield(\"Amsterdam\")\n",
    "    yield(\"Berlin\")\n",
    "    yield(\"Zurich\")\n",
    "    yield(\"Schaffhausen\")\n",
    "    yield(\"Stuttgart\")\n",
    "print(city_generator())\n",
    "# next(x)\n",
    "# next(x)\n"
   ]
  },
  {
   "cell_type": "code",
   "execution_count": 24,
   "metadata": {
    "colab": {
     "base_uri": "https://localhost:8080/",
     "height": 387
    },
    "colab_type": "code",
    "id": "ZokoQVznIAJB",
    "outputId": "00d2ba5f-743c-4515-8b8e-921761a533a8"
   },
   "outputs": [
    {
     "name": "stdout",
     "output_type": "stream",
     "text": [
      "1\n"
     ]
    },
    {
     "name": "stderr",
     "output_type": "stream",
     "text": [
      "/usr/local/lib/python3.6/dist-packages/ipykernel_launcher.py:7: DeprecationWarning: generator 'gen' raised StopIteration\n",
      "  import sys\n"
     ]
    },
    {
     "ename": "StopIteration",
     "evalue": "ignored",
     "output_type": "error",
     "traceback": [
      "\u001b[0;31m---------------------------------------------------------------------------\u001b[0m",
      "\u001b[0;31mStopIteration\u001b[0m                             Traceback (most recent call last)",
      "\u001b[0;32m<ipython-input-24-7d195b160cd2>\u001b[0m in \u001b[0;36m<module>\u001b[0;34m()\u001b[0m\n\u001b[1;32m      5\u001b[0m \u001b[0;34m\u001b[0m\u001b[0m\n\u001b[1;32m      6\u001b[0m \u001b[0;32mfor\u001b[0m \u001b[0mi\u001b[0m  \u001b[0;32min\u001b[0m \u001b[0mrange\u001b[0m\u001b[0;34m(\u001b[0m\u001b[0;36m42\u001b[0m\u001b[0;34m)\u001b[0m\u001b[0;34m:\u001b[0m\u001b[0;34m\u001b[0m\u001b[0m\n\u001b[0;32m----> 7\u001b[0;31m   \u001b[0mprint\u001b[0m\u001b[0;34m(\u001b[0m\u001b[0mnext\u001b[0m\u001b[0;34m(\u001b[0m\u001b[0mg\u001b[0m\u001b[0;34m)\u001b[0m\u001b[0;34m)\u001b[0m\u001b[0;34m\u001b[0m\u001b[0m\n\u001b[0m",
      "\u001b[0;32m<ipython-input-24-7d195b160cd2>\u001b[0m in \u001b[0;36mgen\u001b[0;34m()\u001b[0m\n\u001b[1;32m      1\u001b[0m \u001b[0;32mdef\u001b[0m \u001b[0mgen\u001b[0m\u001b[0;34m(\u001b[0m\u001b[0;34m)\u001b[0m\u001b[0;34m:\u001b[0m\u001b[0;34m\u001b[0m\u001b[0m\n\u001b[1;32m      2\u001b[0m   \u001b[0;32myield\u001b[0m \u001b[0;36m1\u001b[0m\u001b[0;34m\u001b[0m\u001b[0m\n\u001b[0;32m----> 3\u001b[0;31m   \u001b[0;32mraise\u001b[0m \u001b[0mStopIteration\u001b[0m\u001b[0;34m(\u001b[0m\u001b[0;34m)\u001b[0m\u001b[0;34m\u001b[0m\u001b[0m\n\u001b[0m\u001b[1;32m      4\u001b[0m \u001b[0mg\u001b[0m \u001b[0;34m=\u001b[0m \u001b[0mgen\u001b[0m\u001b[0;34m(\u001b[0m\u001b[0;34m)\u001b[0m\u001b[0;34m\u001b[0m\u001b[0m\n\u001b[1;32m      5\u001b[0m \u001b[0;34m\u001b[0m\u001b[0m\n",
      "\u001b[0;31mStopIteration\u001b[0m: "
     ]
    }
   ],
   "source": [
    "def gen():\n",
    "  yield 1"
   ]
  },
  {
   "cell_type": "code",
   "execution_count": 0,
   "metadata": {
    "colab": {},
    "colab_type": "code",
    "id": "0Qet9ycgIAMM"
   },
   "outputs": [],
   "source": []
  },
  {
   "cell_type": "code",
   "execution_count": 0,
   "metadata": {
    "colab": {},
    "colab_type": "code",
    "id": "SZDlaBh47wHc"
   },
   "outputs": [],
   "source": []
  }
 ],
 "metadata": {
  "colab": {
   "collapsed_sections": [],
   "name": "opp_exercise.ipynb",
   "provenance": [],
   "version": "0.3.2"
  },
  "kernelspec": {
   "display_name": "Python 3",
   "language": "python",
   "name": "python3"
  },
  "language_info": {
   "codemirror_mode": {
    "name": "ipython",
    "version": 3
   },
   "file_extension": ".py",
   "mimetype": "text/x-python",
   "name": "python",
   "nbconvert_exporter": "python",
   "pygments_lexer": "ipython3",
   "version": "3.5.6"
  }
 },
 "nbformat": 4,
 "nbformat_minor": 1
}
