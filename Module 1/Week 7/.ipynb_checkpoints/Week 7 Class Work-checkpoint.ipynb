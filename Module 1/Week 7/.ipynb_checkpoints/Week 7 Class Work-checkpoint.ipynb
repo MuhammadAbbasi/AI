{
 "cells": [
  {
   "cell_type": "code",
   "execution_count": 2,
   "metadata": {},
   "outputs": [
    {
     "data": {
      "text/plain": [
       "{1: ['a', 'b'], 2: ['c', 'd'], 3: ['e', 'f']}"
      ]
     },
     "execution_count": 2,
     "metadata": {},
     "output_type": "execute_result"
    }
   ],
   "source": [
    "l = {1:['a','b'],\n",
    "     2:['c','d'],\n",
    "     3:['e','f']}\n",
    "l"
   ]
  },
  {
   "cell_type": "code",
   "execution_count": 3,
   "metadata": {},
   "outputs": [
    {
     "name": "stdout",
     "output_type": "stream",
     "text": [
      "['a', 'b']\n",
      "['c', 'd']\n",
      "['e', 'f']\n"
     ]
    }
   ],
   "source": [
    "for k in l.values():\n",
    "    print(k)"
   ]
  },
  {
   "cell_type": "code",
   "execution_count": 20,
   "metadata": {},
   "outputs": [],
   "source": [
    "inven ={\n",
    "    'gold':['f','t','g','h','ta'],\n",
    "    'pouch':['f','t','g','h','ta'],\n",
    "    'backpack':['x','d','b','br']\n",
    "}\n"
   ]
  },
  {
   "cell_type": "code",
   "execution_count": 15,
   "metadata": {},
   "outputs": [
    {
     "name": "stdout",
     "output_type": "stream",
     "text": [
      "Enter keygold\n",
      "enter valuef\n",
      "t\n",
      "g\n",
      "h\n",
      "ta\n"
     ]
    }
   ],
   "source": [
    "keyin= input(\"Enter key\")\n",
    "valin = input(\"enter value\")\n",
    "if inven[keyin]:\n",
    "    for i in inven[keyin]:\n",
    "        if i != valin:\n",
    "            print(i)"
   ]
  },
  {
   "cell_type": "code",
   "execution_count": 19,
   "metadata": {},
   "outputs": [
    {
     "data": {
      "text/plain": [
       "['t', 'g', 'h', 'ta']"
      ]
     },
     "execution_count": 19,
     "metadata": {},
     "output_type": "execute_result"
    }
   ],
   "source": [
    "l =[x for x in inven[keyin] if x != valin]\n",
    "l"
   ]
  },
  {
   "cell_type": "code",
   "execution_count": 27,
   "metadata": {},
   "outputs": [
    {
     "name": "stdout",
     "output_type": "stream",
     "text": [
      "Enter key: backpack\n",
      "enter value: s\n",
      "x\n",
      "d\n",
      "b\n",
      "br\n"
     ]
    }
   ],
   "source": [
    "keyin= input(\"Enter key: \")\n",
    "valin = input(\"enter value: \")\n",
    "for k in inven.keys():\n",
    "    if k == keyin:\n",
    "        for v in inven[keyin]:\n",
    "            if v != valin:\n",
    "                print(v)"
   ]
  },
  {
   "cell_type": "code",
   "execution_count": 35,
   "metadata": {},
   "outputs": [],
   "source": [
    "inven ={\n",
    "    'gold':['f','t','g','h','ta'],\n",
    "    'pouch':['f','t','g','h','ta'],\n",
    "    'backpack':['x','d','b','br']\n",
    "}\n"
   ]
  },
  {
   "cell_type": "code",
   "execution_count": 50,
   "metadata": {},
   "outputs": [
    {
     "name": "stdout",
     "output_type": "stream",
     "text": [
      "Enter person name: k\n",
      "no key match\n"
     ]
    }
   ],
   "source": [
    "keyin= input(\"Enter person name: \")\n",
    "if keyin in inven:\n",
    "    print(inven[keyin])\n",
    "else:\n",
    "    print(\"no key match\")\n"
   ]
  },
  {
   "cell_type": "code",
   "execution_count": 54,
   "metadata": {},
   "outputs": [
    {
     "ename": "SyntaxError",
     "evalue": "invalid syntax (<ipython-input-54-6472253c4f03>, line 1)",
     "output_type": "error",
     "traceback": [
      "\u001b[1;36m  File \u001b[1;32m\"<ipython-input-54-6472253c4f03>\"\u001b[1;36m, line \u001b[1;32m1\u001b[0m\n\u001b[1;33m    l = [x for k in inven.keys() for v in inven[k] x]\u001b[0m\n\u001b[1;37m                                                   ^\u001b[0m\n\u001b[1;31mSyntaxError\u001b[0m\u001b[1;31m:\u001b[0m invalid syntax\n"
     ]
    }
   ],
   "source": [
    "l = [x for k in inven.keys() for v in inven[k] x=y]\n",
    "l"
   ]
  },
  {
   "cell_type": "code",
   "execution_count": 55,
   "metadata": {},
   "outputs": [],
   "source": [
    "someData = {'c': ['a','s','d'],'z':['f','g','h']}\n"
   ]
  },
  {
   "cell_type": "code",
   "execution_count": 56,
   "metadata": {},
   "outputs": [],
   "source": [
    "x = someData['c']"
   ]
  },
  {
   "cell_type": "code",
   "execution_count": 57,
   "metadata": {},
   "outputs": [
    {
     "data": {
      "text/plain": [
       "['a', 's', 'd']"
      ]
     },
     "execution_count": 57,
     "metadata": {},
     "output_type": "execute_result"
    }
   ],
   "source": [
    "x"
   ]
  },
  {
   "cell_type": "code",
   "execution_count": 81,
   "metadata": {},
   "outputs": [
    {
     "data": {
      "text/plain": [
       "['a', 's', 'd']"
      ]
     },
     "execution_count": 81,
     "metadata": {},
     "output_type": "execute_result"
    }
   ],
   "source": [
    "x= someData.get('c',\"Doesn't exist\")\n",
    "x"
   ]
  },
  {
   "cell_type": "markdown",
   "metadata": {},
   "source": [
    "<h3> Dict Update"
   ]
  },
  {
   "cell_type": "code",
   "execution_count": 76,
   "metadata": {},
   "outputs": [
    {
     "name": "stdout",
     "output_type": "stream",
     "text": [
      "{0: 'Hello', 1: 'World'}\n",
      "{0: 'Hello', 1: 'Earth'}\n"
     ]
    }
   ],
   "source": [
    "d = {0:\"Hello\",1:\"World\"}\n",
    "print(d)\n",
    "d.update({1:\"Earth\"})\n",
    "print(d)"
   ]
  },
  {
   "cell_type": "code",
   "execution_count": 78,
   "metadata": {},
   "outputs": [],
   "source": [
    "customers = {0:\n",
    "             {\n",
    "                 \"first name\":\"John\"\n",
    "#                 \"last name\": \"Ogden\",\n",
    "#                \"address\": \"301 Arbor Rd.\",\n",
    "             },\n",
    "             1: \n",
    "             {\"first name\":\"Ann\"\n",
    "#              \"last name\": \"Sattermyer\",\n",
    "#              \"address\": \"PO Box 1145\",\n",
    "             },\n",
    "             2: \n",
    "             {\n",
    "                 \"first name\":\"Jill\"\n",
    "#                 \"last name\": \"Somers\",\n",
    "#                 \"address\": \"3 Main St.\",\n",
    "             },\n",
    "            }\n"
   ]
  },
  {
   "cell_type": "code",
   "execution_count": 84,
   "metadata": {},
   "outputs": [
    {
     "name": "stdout",
     "output_type": "stream",
     "text": [
      "False\n"
     ]
    },
    {
     "data": {
      "text/plain": [
       "{0: {'first name': 'John'},\n",
       " 1: {'first name': 'Ann'},\n",
       " 2: {'first name': 'Jill'}}"
      ]
     },
     "execution_count": 84,
     "metadata": {},
     "output_type": "execute_result"
    }
   ],
   "source": [
    "#for c in customers:\n",
    "print(customers.get(0) == 'first name')\n",
    "        \n",
    "       # customers.update({'first name':'Shahzad'})\n",
    "customers"
   ]
  },
  {
   "cell_type": "markdown",
   "metadata": {},
   "source": [
    "<h2>ZIP method"
   ]
  },
  {
   "cell_type": "code",
   "execution_count": 89,
   "metadata": {},
   "outputs": [
    {
     "data": {
      "text/plain": [
       "<zip at 0x1f6060a1f88>"
      ]
     },
     "execution_count": 89,
     "metadata": {},
     "output_type": "execute_result"
    }
   ],
   "source": [
    "k = [0,1,2,3]\n",
    "v = ['a','b','c','d']\n",
    "d = zip(k,v)\n",
    "d"
   ]
  },
  {
   "cell_type": "markdown",
   "metadata": {},
   "source": [
    "if key is assigned no value, key won't be included in code"
   ]
  },
  {
   "cell_type": "code",
   "execution_count": null,
   "metadata": {},
   "outputs": [],
   "source": []
  }
 ],
 "metadata": {
  "kernelspec": {
   "display_name": "Python 3",
   "language": "python",
   "name": "python3"
  },
  "language_info": {
   "codemirror_mode": {
    "name": "ipython",
    "version": 3
   },
   "file_extension": ".py",
   "mimetype": "text/x-python",
   "name": "python",
   "nbconvert_exporter": "python",
   "pygments_lexer": "ipython3",
   "version": "3.6.5"
  }
 },
 "nbformat": 4,
 "nbformat_minor": 2
}
