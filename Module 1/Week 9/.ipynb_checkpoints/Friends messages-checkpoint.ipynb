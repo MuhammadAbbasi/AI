{
 "cells": [
  {
   "cell_type": "code",
   "execution_count": 3,
   "metadata": {},
   "outputs": [],
   "source": [
    "def add(name):\n",
    "    friends.append(name)\n",
    "def printlist():\n",
    "    print(friends)\n",
    "\n",
    "friends= ['Mansoor', 'M Jan', 'Hannan', 'Haris','Waqas','Junaid','Islahuddin','Amir Zeb','Ashfaq','Rizwan']"
   ]
  },
  {
   "cell_type": "code",
   "execution_count": 4,
   "metadata": {},
   "outputs": [
    {
     "name": "stdout",
     "output_type": "stream",
     "text": [
      "['Mansoor', 'M Jan', 'Hannan', 'Haris', 'Waqas', 'Junaid', 'Islahuddin', 'Amir Zeb', 'Ashfaq', 'Rizwan']\n"
     ]
    }
   ],
   "source": [
    "printlist()"
   ]
  },
  {
   "cell_type": "code",
   "execution_count": null,
   "metadata": {},
   "outputs": [],
   "source": []
  }
 ],
 "metadata": {
  "kernelspec": {
   "display_name": "Python 3",
   "language": "python",
   "name": "python3"
  },
  "language_info": {
   "codemirror_mode": {
    "name": "ipython",
    "version": 3
   },
   "file_extension": ".py",
   "mimetype": "text/x-python",
   "name": "python",
   "nbconvert_exporter": "python",
   "pygments_lexer": "ipython3",
   "version": "3.6.5"
  }
 },
 "nbformat": 4,
 "nbformat_minor": 2
}
