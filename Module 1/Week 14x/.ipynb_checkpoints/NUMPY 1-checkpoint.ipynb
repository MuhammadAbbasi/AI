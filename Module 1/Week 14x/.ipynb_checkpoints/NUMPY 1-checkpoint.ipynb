{
 "cells": [
  {
   "cell_type": "markdown",
   "metadata": {},
   "source": [
    "# NUMPY"
   ]
  },
  {
   "cell_type": "code",
   "execution_count": 1,
   "metadata": {},
   "outputs": [],
   "source": [
    "import numpy as np"
   ]
  },
  {
   "cell_type": "code",
   "execution_count": 20,
   "metadata": {},
   "outputs": [
    {
     "name": "stdout",
     "output_type": "stream",
     "text": [
      "[1 2 3 5]\n",
      "(4,)\n",
      "1\n",
      "int32\n",
      "\t 4 shows there are 4 columns\n",
      "Its a vector\n"
     ]
    }
   ],
   "source": [
    "x = np.array([1,2,3,5])\n",
    "print(x)\n",
    "print(x.shape)\n",
    "print(x.ndim)\n",
    "print(x.dtype)\n",
    "print(\"\\t 4 shows there are 4 columns\")\n",
    "print(\"Its a vector\")"
   ]
  },
  {
   "cell_type": "code",
   "execution_count": 21,
   "metadata": {},
   "outputs": [
    {
     "name": "stdout",
     "output_type": "stream",
     "text": [
      "[[1 2 3 5]]\n",
      "(1, 4)\n",
      "2\n",
      "\t 1,4 shows there are 4 columns and 1 row\n",
      "Its a 2d Matrix\n"
     ]
    }
   ],
   "source": [
    "x = np.array([[1,2,3,5]])\n",
    "print(x)\n",
    "print(x.shape)\n",
    "print(x.ndim)\n",
    "print(\"\\t 1,4 shows there are 4 columns and 1 row\")\n",
    "print(\"Its a 2d Matrix\")"
   ]
  },
  {
   "cell_type": "code",
   "execution_count": 28,
   "metadata": {},
   "outputs": [
    {
     "name": "stdout",
     "output_type": "stream",
     "text": [
      "[[ 0  1  2  3  4  5  6  7  8]\n",
      " [ 9 10 11 12 13 14 15 16 17]\n",
      " [18 19 20 21 22 23 24 25 26]\n",
      " [27 28 29 30 31 32 33 34 35]\n",
      " [36 37 38 39 40 41 42 43 44]]\n",
      "[[ 0  1  2]\n",
      " [ 3  4  5]\n",
      " [ 6  7  8]\n",
      " [ 9 10 11]\n",
      " [12 13 14]\n",
      " [15 16 17]\n",
      " [18 19 20]\n",
      " [21 22 23]\n",
      " [24 25 26]\n",
      " [27 28 29]\n",
      " [30 31 32]\n",
      " [33 34 35]\n",
      " [36 37 38]\n",
      " [39 40 41]\n",
      " [42 43 44]]\n",
      "[[ 0  1  2  3  4  5  6  7  8  9 10 11 12 13 14]\n",
      " [15 16 17 18 19 20 21 22 23 24 25 26 27 28 29]\n",
      " [30 31 32 33 34 35 36 37 38 39 40 41 42 43 44]]\n"
     ]
    }
   ],
   "source": [
    "arr = np.arange(45).reshape(5,9)\n",
    "print(arr)\n",
    "arr2 = np.arange(45).reshape(15,3)\n",
    "print(arr2)\n",
    "arr3 = np.arange(45).reshape(3,15)\n",
    "print(arr3)"
   ]
  },
  {
   "cell_type": "code",
   "execution_count": 29,
   "metadata": {},
   "outputs": [
    {
     "name": "stdout",
     "output_type": "stream",
     "text": [
      "[[ 0.  1.  2.  3.  4.  5.  6.  7.  8.]\n",
      " [ 9. 10. 11. 12. 13. 14. 15. 16. 17.]\n",
      " [18. 19. 20. 21. 22. 23. 24. 25. 26.]\n",
      " [27. 28. 29. 30. 31. 32. 33. 34. 35.]\n",
      " [36. 37. 38. 39. 40. 41. 42. 43. 44.]]\n",
      "[1. 2. 3. 4.]\n"
     ]
    }
   ],
   "source": [
    "arr = np.arange(45).reshape(5,9).astype('float')\n",
    "arr.astype('float')\n",
    "x = np.array([1,2,3,4], dtype = 'float')\n",
    "print(arr)\n",
    "print(x)"
   ]
  },
  {
   "cell_type": "code",
   "execution_count": 34,
   "metadata": {},
   "outputs": [
    {
     "name": "stdout",
     "output_type": "stream",
     "text": [
      "[[ 0  1  2  3]\n",
      " [ 4  5  6  7]\n",
      " [ 8  9 10 11]]\n"
     ]
    }
   ],
   "source": [
    "arr = np.arange(12).reshape(3,4)             #row column\n",
    "print(arr)"
   ]
  },
  {
   "cell_type": "code",
   "execution_count": 35,
   "metadata": {},
   "outputs": [
    {
     "name": "stdout",
     "output_type": "stream",
     "text": [
      "[[[ 0  1  2  3  4]\n",
      "  [ 5  6  7  8  9]\n",
      "  [10 11 12 13 14]\n",
      "  [15 16 17 18 19]]\n",
      "\n",
      " [[20 21 22 23 24]\n",
      "  [25 26 27 28 29]\n",
      "  [30 31 32 33 34]\n",
      "  [35 36 37 38 39]]\n",
      "\n",
      " [[40 41 42 43 44]\n",
      "  [45 46 47 48 49]\n",
      "  [50 51 52 53 54]\n",
      "  [55 56 57 58 59]]]\n"
     ]
    }
   ],
   "source": [
    "arr = np.arange(60).reshape(3,4,5)            #depth,row,column\n",
    "print(arr)                                    #each depth is also called stack"
   ]
  },
  {
   "cell_type": "code",
   "execution_count": 42,
   "metadata": {},
   "outputs": [
    {
     "data": {
      "text/plain": [
       "array([[[ 0,  1,  2,  3,  4],\n",
       "        [ 5,  6,  7,  8,  9],\n",
       "        [10, 11, 12, 13, 14],\n",
       "        [15, 16, 17, 18, 19]],\n",
       "\n",
       "       [[20, 21, 22, 23, 24],\n",
       "        [25, 26, 27, 28, 29],\n",
       "        [30, 31, 32, 33, 34],\n",
       "        [35, 36, 37, 38, 39]]])"
      ]
     },
     "execution_count": 42,
     "metadata": {},
     "output_type": "execute_result"
    }
   ],
   "source": [
    "arr[0:2]"
   ]
  },
  {
   "cell_type": "code",
   "execution_count": 44,
   "metadata": {},
   "outputs": [
    {
     "data": {
      "text/plain": [
       "array([0, 2])"
      ]
     },
     "execution_count": 44,
     "metadata": {},
     "output_type": "execute_result"
    }
   ],
   "source": [
    "arr2[0][0:6:2]"
   ]
  },
  {
   "cell_type": "code",
   "execution_count": 46,
   "metadata": {},
   "outputs": [
    {
     "data": {
      "text/plain": [
       "array([[ 0,  1,  2,  3],\n",
       "       [ 4,  5,  6,  7],\n",
       "       [ 8,  9, 10, 11],\n",
       "       [12, 13, 14, 15],\n",
       "       [16, 17, 18, 19],\n",
       "       [20, 21, 22, 23]])"
      ]
     },
     "execution_count": 46,
     "metadata": {},
     "output_type": "execute_result"
    }
   ],
   "source": [
    "b = np.arange(24).reshape(6,4)\n",
    "b"
   ]
  },
  {
   "cell_type": "code",
   "execution_count": 81,
   "metadata": {},
   "outputs": [
    {
     "name": "stdout",
     "output_type": "stream",
     "text": [
      " if we want to slice 9 and 10 \n",
      "[[ 9 10]]\n",
      "\n",
      " if we want to slice 9, 10, 13 and 14 \n",
      "[[ 9 10]\n",
      " [13 14]]\n",
      "\n",
      " if we wanrt to get 18\n",
      "[[18]]\n",
      "2         Dimensions\n",
      "(1, 1)    Shape\n",
      "18\n"
     ]
    }
   ],
   "source": [
    "#             b[start:end,start,end]      b[row,col]\n",
    "#   if we want to slice 9 and 10\n",
    "print(\" if we want to slice 9 and 10 \")\n",
    "print(b[2:3,1:3])\n",
    "\n",
    "print(\"\\n if we want to slice 9, 10, 13 and 14 \")\n",
    "print(b[2:4,1:3])\n",
    "print(\"\\n if we wanrt to get 18\")\n",
    "print(b[4:5,2:3])\n",
    "print(b[4:5,2:3].ndim,\"        Dimensions\")\n",
    "print(b[4:5,2:3].shape, \"   Shape\")\n",
    "print(b[4,2])       #this is not a matrix but only a scalar quantity"
   ]
  },
  {
   "cell_type": "markdown",
   "metadata": {},
   "source": [
    "##  Array 3d"
   ]
  },
  {
   "cell_type": "code",
   "execution_count": 82,
   "metadata": {},
   "outputs": [
    {
     "data": {
      "text/plain": [
       "array([[[ 0,  1,  2],\n",
       "        [ 3,  4,  5],\n",
       "        [ 6,  7,  8]],\n",
       "\n",
       "       [[ 9, 10, 11],\n",
       "        [12, 13, 14],\n",
       "        [15, 16, 17]],\n",
       "\n",
       "       [[18, 19, 20],\n",
       "        [21, 22, 23],\n",
       "        [24, 25, 26]]])"
      ]
     },
     "execution_count": 82,
     "metadata": {},
     "output_type": "execute_result"
    }
   ],
   "source": [
    "arr_3d = np.arange(27).reshape(3,3,3)\n",
    "arr_3d"
   ]
  },
  {
   "cell_type": "code",
   "execution_count": 86,
   "metadata": {},
   "outputs": [
    {
     "name": "stdout",
     "output_type": "stream",
     "text": [
      "if we want to extract 13 and 16\n",
      "[[[13]\n",
      "  [16]]]\n"
     ]
    }
   ],
   "source": [
    "print(\"if we want to extract 13 and 16\")\n",
    "print(arr_3d[1:2,1:3,1:2])"
   ]
  },
  {
   "cell_type": "code",
   "execution_count": 96,
   "metadata": {},
   "outputs": [
    {
     "data": {
      "text/plain": [
       "array([[[ 0,  1,  2,  3,  4],\n",
       "        [ 5,  6,  7,  8,  9],\n",
       "        [10, 11, 12, 13, 14]],\n",
       "\n",
       "       [[15, 16, 17, 18, 19],\n",
       "        [20, 21, 22, 23, 24],\n",
       "        [25, 26, 27, 28, 29]],\n",
       "\n",
       "       [[30, 31, 32, 33, 34],\n",
       "        [35, 36, 37, 38, 39],\n",
       "        [40, 41, 42, 43, 44]],\n",
       "\n",
       "       [[45, 46, 47, 48, 49],\n",
       "        [50, 51, 52, 53, 54],\n",
       "        [55, 56, 57, 58, 59]],\n",
       "\n",
       "       [[60, 61, 62, 63, 64],\n",
       "        [65, 66, 67, 68, 69],\n",
       "        [70, 71, 72, 73, 74]]])"
      ]
     },
     "execution_count": 96,
     "metadata": {},
     "output_type": "execute_result"
    }
   ],
   "source": [
    "assignment = np.arange(75).reshape(5,3,5)\n",
    "assignment"
   ]
  },
  {
   "cell_type": "code",
   "execution_count": 94,
   "metadata": {},
   "outputs": [
    {
     "name": "stdout",
     "output_type": "stream",
     "text": [
      "if we want to extract 38 39 42 44\n",
      "[[[38 39]\n",
      "  [43 44]]]\n"
     ]
    }
   ],
   "source": [
    "print(\"if we want to extract 38 39 42 44\")\n",
    "print(assignment[2:3,1:,3:])"
   ]
  },
  {
   "cell_type": "code",
   "execution_count": 97,
   "metadata": {},
   "outputs": [
    {
     "name": "stdout",
     "output_type": "stream",
     "text": [
      "if we want to replace 57 with 100\n"
     ]
    },
    {
     "data": {
      "text/plain": [
       "array([[[  0,   1,   2,   3,   4],\n",
       "        [  5,   6,   7,   8,   9],\n",
       "        [ 10,  11,  12,  13,  14]],\n",
       "\n",
       "       [[ 15,  16,  17,  18,  19],\n",
       "        [ 20,  21,  22,  23,  24],\n",
       "        [ 25,  26,  27,  28,  29]],\n",
       "\n",
       "       [[ 30,  31,  32,  33,  34],\n",
       "        [ 35,  36,  37,  38,  39],\n",
       "        [ 40,  41,  42,  43,  44]],\n",
       "\n",
       "       [[ 45,  46,  47,  48,  49],\n",
       "        [ 50,  51,  52,  53,  54],\n",
       "        [ 55,  56, 100,  58,  59]],\n",
       "\n",
       "       [[ 60,  61,  62,  63,  64],\n",
       "        [ 65,  66,  67,  68,  69],\n",
       "        [ 70,  71,  72,  73,  74]]])"
      ]
     },
     "execution_count": 97,
     "metadata": {},
     "output_type": "execute_result"
    }
   ],
   "source": [
    "print(\"if we want to replace 57 with 100\")\n",
    "assignment[3:4,2:,2:3] = 100\n",
    "assignment"
   ]
  },
  {
   "cell_type": "markdown",
   "metadata": {},
   "source": [
    "# Exercise"
   ]
  },
  {
   "cell_type": "markdown",
   "metadata": {},
   "source": [
    "Create a uniform subdivision of the interval -1.3 to 2.5 with 64 divisions"
   ]
  },
  {
   "cell_type": "code",
   "execution_count": 113,
   "metadata": {},
   "outputs": [
    {
     "name": "stdout",
     "output_type": "stream",
     "text": [
      "[-1.3        -1.23968254 -1.17936508 -1.11904762 -1.05873016 -0.9984127\n",
      " -0.93809524 -0.87777778 -0.81746032 -0.75714286 -0.6968254  -0.63650794\n",
      " -0.57619048 -0.51587302 -0.45555556 -0.3952381  -0.33492063 -0.27460317\n",
      " -0.21428571 -0.15396825 -0.09365079 -0.03333333  0.02698413  0.08730159\n",
      "  0.14761905  0.20793651  0.26825397  0.32857143  0.38888889  0.44920635\n",
      "  0.50952381  0.56984127  0.63015873  0.69047619  0.75079365  0.81111111\n",
      "  0.87142857  0.93174603  0.99206349  1.05238095  1.11269841  1.17301587\n",
      "  1.23333333  1.29365079  1.35396825  1.41428571  1.47460317  1.53492063\n",
      "  1.5952381   1.65555556  1.71587302  1.77619048  1.83650794  1.8968254\n",
      "  1.95714286  2.01746032  2.07777778  2.13809524  2.1984127   2.25873016\n",
      "  2.31904762  2.37936508  2.43968254  2.5       ]\n"
     ]
    },
    {
     "data": {
      "text/plain": [
       "array([-1.23    , -1.170625, -1.11125 , -1.051875, -0.9925  , -0.933125,\n",
       "       -0.87375 , -0.814375, -0.755   , -0.695625, -0.63625 , -0.576875,\n",
       "       -0.5175  , -0.458125, -0.39875 , -0.339375, -0.28    , -0.220625,\n",
       "       -0.16125 , -0.101875, -0.0425  ,  0.016875,  0.07625 ,  0.135625,\n",
       "        0.195   ,  0.254375,  0.31375 ,  0.373125,  0.4325  ,  0.491875,\n",
       "        0.55125 ,  0.610625,  0.67    ,  0.729375,  0.78875 ,  0.848125,\n",
       "        0.9075  ,  0.966875,  1.02625 ,  1.085625,  1.145   ,  1.204375,\n",
       "        1.26375 ,  1.323125,  1.3825  ,  1.441875,  1.50125 ,  1.560625,\n",
       "        1.62    ,  1.679375,  1.73875 ,  1.798125,  1.8575  ,  1.916875,\n",
       "        1.97625 ,  2.035625,  2.095   ,  2.154375,  2.21375 ,  2.273125,\n",
       "        2.3325  ,  2.391875,  2.45125 ])"
      ]
     },
     "execution_count": 113,
     "metadata": {},
     "output_type": "execute_result"
    }
   ],
   "source": [
    "array_uniform = np.linspace(-1.3,2.5,64)\n",
    "print(array_uniform)\n",
    "array_uni = np.arange(-1.23,2.5,(1.3+2.5)/64)\n",
    "array_uni"
   ]
  },
  {
   "cell_type": "code",
   "execution_count": 116,
   "metadata": {},
   "outputs": [
    {
     "data": {
      "text/plain": [
       "array([ 1. , 10.8, 20.6, 30.4, 40.2, 50. ])"
      ]
     },
     "execution_count": 116,
     "metadata": {},
     "output_type": "execute_result"
    }
   ],
   "source": [
    "#       (b-a)/(n-1)\n",
    "#      (50-1)/(6-1)\n",
    "np.arange(1,51,9.8)"
   ]
  },
  {
   "cell_type": "raw",
   "metadata": {},
   "source": []
  },
  {
   "cell_type": "code",
   "execution_count": 115,
   "metadata": {},
   "outputs": [
    {
     "data": {
      "text/plain": [
       "array([ 1. , 10.8, 20.6, 30.4, 40.2, 50. ])"
      ]
     },
     "execution_count": 115,
     "metadata": {},
     "output_type": "execute_result"
    }
   ],
   "source": [
    "np.linspace(1,50,6)"
   ]
  },
  {
   "cell_type": "code",
   "execution_count": null,
   "metadata": {},
   "outputs": [],
   "source": []
  },
  {
   "cell_type": "code",
   "execution_count": null,
   "metadata": {},
   "outputs": [],
   "source": []
  },
  {
   "cell_type": "markdown",
   "metadata": {},
   "source": [
    "Array of first 10 odd ingtegers"
   ]
  },
  {
   "cell_type": "code",
   "execution_count": 117,
   "metadata": {},
   "outputs": [
    {
     "name": "stdout",
     "output_type": "stream",
     "text": [
      "[ 1  3  5  7  9 11 13 15 17 19]\n"
     ]
    }
   ],
   "source": [
    "print(np.arange(1,20,2))"
   ]
  },
  {
   "cell_type": "markdown",
   "metadata": {},
   "source": [
    "Create 10x10 matrix of zeros and then \"frame\" it with a border of ones"
   ]
  },
  {
   "cell_type": "code",
   "execution_count": null,
   "metadata": {},
   "outputs": [],
   "source": []
  },
  {
   "cell_type": "code",
   "execution_count": null,
   "metadata": {},
   "outputs": [],
   "source": []
  }
 ],
 "metadata": {
  "kernelspec": {
   "display_name": "Python 3",
   "language": "python",
   "name": "python3"
  },
  "language_info": {
   "codemirror_mode": {
    "name": "ipython",
    "version": 3
   },
   "file_extension": ".py",
   "mimetype": "text/x-python",
   "name": "python",
   "nbconvert_exporter": "python",
   "pygments_lexer": "ipython3",
   "version": "3.6.5"
  }
 },
 "nbformat": 4,
 "nbformat_minor": 2
}
