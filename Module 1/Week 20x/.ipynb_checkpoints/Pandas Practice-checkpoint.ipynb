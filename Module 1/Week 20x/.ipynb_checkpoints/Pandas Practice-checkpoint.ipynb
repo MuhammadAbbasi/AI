{
 "cells": [
  {
   "cell_type": "code",
   "execution_count": 2,
   "metadata": {},
   "outputs": [],
   "source": [
    "import numpy as np\n",
    "import pandas as pd\n",
    "from pandas import Series, DataFrame"
   ]
  },
  {
   "cell_type": "code",
   "execution_count": 4,
   "metadata": {},
   "outputs": [],
   "source": [
    "pd.set_option('display.notebook_repr_html', False)\n",
    "pd.set_option('display.max_columns', 10)\n",
    "pd.set_option('display.max_rows',10)\n",
    "\n",
    "%matplotlib inline\n",
    "import matplotlib.pyplot as plt"
   ]
  },
  {
   "cell_type": "code",
   "execution_count": 6,
   "metadata": {},
   "outputs": [
    {
     "data": {
      "text/plain": [
       "0    1\n",
       "1    2\n",
       "2    3\n",
       "3    4\n",
       "dtype: int64"
      ]
     },
     "execution_count": 6,
     "metadata": {},
     "output_type": "execute_result"
    }
   ],
   "source": [
    "s = Series([1,2,3,4])\n",
    "s"
   ]
  },
  {
   "cell_type": "code",
   "execution_count": 9,
   "metadata": {},
   "outputs": [
    {
     "data": {
      "text/plain": [
       "1    2\n",
       "3    4\n",
       "dtype: int64"
      ]
     },
     "execution_count": 9,
     "metadata": {},
     "output_type": "execute_result"
    }
   ],
   "source": [
    "s[[1,3]]"
   ]
  },
  {
   "cell_type": "code",
   "execution_count": 15,
   "metadata": {},
   "outputs": [
    {
     "data": {
      "text/plain": [
       "a    1\n",
       "b    2\n",
       "c    3\n",
       "d    4\n",
       "dtype: int64"
      ]
     },
     "execution_count": 15,
     "metadata": {},
     "output_type": "execute_result"
    }
   ],
   "source": [
    "s = Series([1,2,3,4],index=['a','b','c','d'])\n",
    "s"
   ]
  },
  {
   "cell_type": "code",
   "execution_count": 16,
   "metadata": {},
   "outputs": [
    {
     "data": {
      "text/plain": [
       "c    3\n",
       "d    4\n",
       "dtype: int64"
      ]
     },
     "execution_count": 16,
     "metadata": {},
     "output_type": "execute_result"
    }
   ],
   "source": [
    "s[[2,3]]"
   ]
  },
  {
   "cell_type": "code",
   "execution_count": 19,
   "metadata": {},
   "outputs": [
    {
     "data": {
      "text/plain": [
       "False"
      ]
     },
     "execution_count": 19,
     "metadata": {},
     "output_type": "execute_result"
    }
   ],
   "source": [
    "3 in s"
   ]
  },
  {
   "cell_type": "code",
   "execution_count": 20,
   "metadata": {},
   "outputs": [
    {
     "data": {
      "text/plain": [
       "True"
      ]
     },
     "execution_count": 20,
     "metadata": {},
     "output_type": "execute_result"
    }
   ],
   "source": [
    "\"c\" in s"
   ]
  },
  {
   "cell_type": "code",
   "execution_count": 22,
   "metadata": {},
   "outputs": [
    {
     "data": {
      "text/plain": [
       "1    AA\n",
       "2    cc\n",
       "f     6\n",
       "dtype: object"
      ]
     },
     "execution_count": 22,
     "metadata": {},
     "output_type": "execute_result"
    }
   ],
   "source": [
    "s2 = Series({1:\"AA\",2:\"cc\",'f':\"6\"})\n",
    "s2"
   ]
  },
  {
   "cell_type": "code",
   "execution_count": 23,
   "metadata": {},
   "outputs": [
    {
     "data": {
      "text/plain": [
       "1    False\n",
       "2    False\n",
       "f    False\n",
       "dtype: bool"
      ]
     },
     "execution_count": 23,
     "metadata": {},
     "output_type": "execute_result"
    }
   ],
   "source": [
    "pd.isnull(s2)"
   ]
  },
  {
   "cell_type": "code",
   "execution_count": 30,
   "metadata": {},
   "outputs": [
    {
     "data": {
      "text/plain": [
       "1     NaN\n",
       "2     NaN\n",
       "f     NaN\n",
       "4     NaN\n",
       "5     NaN\n",
       "fs    NaN\n",
       "dtype: object"
      ]
     },
     "execution_count": 30,
     "metadata": {},
     "output_type": "execute_result"
    }
   ],
   "source": [
    "s3 = s2 + Series({4:\"bA\",5:\"tc\",'fs':\"a6\"})\n",
    "s3"
   ]
  },
  {
   "cell_type": "code",
   "execution_count": 31,
   "metadata": {},
   "outputs": [
    {
     "data": {
      "text/plain": [
       "1    AAbA\n",
       "2    cctc\n",
       "f     6a6\n",
       "dtype: object"
      ]
     },
     "execution_count": 31,
     "metadata": {},
     "output_type": "execute_result"
    }
   ],
   "source": [
    "s3 = s2 + Series({1:\"bA\",2:\"tc\",'f':\"a6\"})\n",
    "s3"
   ]
  },
  {
   "cell_type": "code",
   "execution_count": 33,
   "metadata": {},
   "outputs": [
    {
     "data": {
      "text/plain": [
       "q    AAbA\n",
       "w    cctc\n",
       "e     6a6\n",
       "dtype: object"
      ]
     },
     "execution_count": 33,
     "metadata": {},
     "output_type": "execute_result"
    }
   ],
   "source": [
    "s3.index = \"q\",\"w\",\"e\"\n",
    "s3"
   ]
  },
  {
   "cell_type": "code",
   "execution_count": 35,
   "metadata": {},
   "outputs": [
    {
     "data": {
      "text/plain": [
       "    state  year  pop\n",
       "0    Ohio  2000  1.5\n",
       "1    Ohio  2001  1.7\n",
       "2    Ohio  2002  3.6\n",
       "3  Nevada  2001  2.4\n",
       "4  Nevada  2002  2.9\n",
       "5  Nevada  2003  3.2"
      ]
     },
     "execution_count": 35,
     "metadata": {},
     "output_type": "execute_result"
    }
   ],
   "source": [
    "data = {'state': ['Ohio', 'Ohio', 'Ohio', 'Nevada', 'Nevada', 'Nevada'],\n",
    " 'year': [2000, 2001, 2002, 2001, 2002, 2003],\n",
    " 'pop': [1.5, 1.7, 3.6, 2.4, 2.9, 3.2]}\n",
    "frame = pd.DataFrame(data)\n",
    "frame"
   ]
  },
  {
   "cell_type": "code",
   "execution_count": 37,
   "metadata": {},
   "outputs": [
    {
     "data": {
      "text/plain": [
       "         state  year  pop\n",
       "first     Ohio  2000  1.5\n",
       "second    Ohio  2001  1.7\n",
       "third     Ohio  2002  3.6\n",
       "fourth  Nevada  2001  2.4\n",
       "fifth   Nevada  2002  2.9\n",
       "sixth   Nevada  2003  3.2"
      ]
     },
     "execution_count": 37,
     "metadata": {},
     "output_type": "execute_result"
    }
   ],
   "source": [
    "frame = pd.DataFrame(data,index=[\"first\",\"second\",\"third\",\"fourth\",\"fifth\",\"sixth\"])\n",
    "frame"
   ]
  },
  {
   "cell_type": "code",
   "execution_count": 38,
   "metadata": {},
   "outputs": [
    {
     "data": {
      "text/plain": [
       "   year   state  pop dept\n",
       "0  2000    Ohio  1.5  NaN\n",
       "1  2001    Ohio  1.7  NaN\n",
       "2  2002    Ohio  3.6  NaN\n",
       "3  2001  Nevada  2.4  NaN\n",
       "4  2002  Nevada  2.9  NaN\n",
       "5  2003  Nevada  3.2  NaN"
      ]
     },
     "execution_count": 38,
     "metadata": {},
     "output_type": "execute_result"
    }
   ],
   "source": [
    "frame = pd.DataFrame(data,columns=['year','state','pop','dept'])\n",
    "frame"
   ]
  },
  {
   "cell_type": "code",
   "execution_count": 39,
   "metadata": {},
   "outputs": [
    {
     "data": {
      "text/plain": [
       "0    2000\n",
       "1    2001\n",
       "2    2002\n",
       "3    2001\n",
       "4    2002\n",
       "5    2003\n",
       "Name: year, dtype: int64"
      ]
     },
     "execution_count": 39,
     "metadata": {},
     "output_type": "execute_result"
    }
   ],
   "source": [
    "frame['year']"
   ]
  },
  {
   "cell_type": "code",
   "execution_count": 44,
   "metadata": {},
   "outputs": [
    {
     "data": {
      "text/plain": [
       "0      Ohio\n",
       "1      Ohio\n",
       "2      Ohio\n",
       "3    Nevada\n",
       "4    Nevada\n",
       "5    Nevada\n",
       "Name: state, dtype: object"
      ]
     },
     "execution_count": 44,
     "metadata": {},
     "output_type": "execute_result"
    }
   ],
   "source": [
    "frame.state"
   ]
  },
  {
   "cell_type": "code",
   "execution_count": 45,
   "metadata": {},
   "outputs": [
    {
     "name": "stdout",
     "output_type": "stream",
     "text": [
      "['Ohio' 'Nevada']\n"
     ]
    }
   ],
   "source": [
    "print(frame.state.unique())"
   ]
  },
  {
   "cell_type": "code",
   "execution_count": 46,
   "metadata": {},
   "outputs": [
    {
     "data": {
      "text/plain": [
       "   year   state  pop dept\n",
       "0  2000    Ohio  1.5  NaN\n",
       "1  2001    Ohio  1.7  NaN\n",
       "2  2002    Ohio  3.6  NaN\n",
       "3  2001  Nevada  2.4  NaN\n",
       "4  2002  Nevada  2.9  NaN\n",
       "5  2003  Nevada  3.2  NaN"
      ]
     },
     "execution_count": 46,
     "metadata": {},
     "output_type": "execute_result"
    }
   ],
   "source": [
    "frame"
   ]
  },
  {
   "cell_type": "code",
   "execution_count": 50,
   "metadata": {},
   "outputs": [
    {
     "data": {
      "text/plain": [
       "   year   state  pop  dept\n",
       "0  2000    Ohio  1.5     1\n",
       "1  2001    Ohio  1.7     2\n",
       "2  2002    Ohio  3.6     3\n",
       "3  2001  Nevada  2.4     4\n",
       "4  2002  Nevada  2.9     5\n",
       "5  2003  Nevada  3.2     6"
      ]
     },
     "execution_count": 50,
     "metadata": {},
     "output_type": "execute_result"
    }
   ],
   "source": [
    "frame.dept = [1,2,3,4,5,6]\n",
    "frame"
   ]
  },
  {
   "cell_type": "code",
   "execution_count": 52,
   "metadata": {},
   "outputs": [
    {
     "data": {
      "text/plain": [
       "   year   state  pop  dept  new\n",
       "0  2000    Ohio  1.5     1    2\n",
       "1  2001    Ohio  1.7     2    3\n",
       "2  2002    Ohio  3.6     3    2\n",
       "3  2001  Nevada  2.4     4    3\n",
       "4  2002  Nevada  2.9     5    2\n",
       "5  2003  Nevada  3.2     6    3"
      ]
     },
     "execution_count": 52,
     "metadata": {},
     "output_type": "execute_result"
    }
   ],
   "source": [
    "frame[\"new\"] = [2,3,2,3,2,3]\n",
    "frame"
   ]
  },
  {
   "cell_type": "code",
   "execution_count": 56,
   "metadata": {},
   "outputs": [
    {
     "data": {
      "text/plain": [
       "   year   state  pop  dept  new  new2\n",
       "0  2000    Ohio  1.5     1    2   3.0\n",
       "1  2001    Ohio  1.7     2    3   NaN\n",
       "2  2002    Ohio  3.6     3    2   NaN\n",
       "3  2001  Nevada  2.4     4    3   2.0\n",
       "4  2002  Nevada  2.9     5    2   NaN\n",
       "5  2003  Nevada  3.2     6    3   1.0"
      ]
     },
     "execution_count": 56,
     "metadata": {},
     "output_type": "execute_result"
    }
   ],
   "source": [
    "frame['new2'] = Series([3,2,1],index=[0,3,5])\n",
    "frame"
   ]
  },
  {
   "cell_type": "code",
   "execution_count": 57,
   "metadata": {},
   "outputs": [
    {
     "data": {
      "text/plain": [
       "          0     1     2       3       4       5\n",
       "year   2000  2001  2002    2001    2002    2003\n",
       "state  Ohio  Ohio  Ohio  Nevada  Nevada  Nevada\n",
       "pop     1.5   1.7   3.6     2.4     2.9     3.2\n",
       "dept      1     2     3       4       5       6\n",
       "new       2     3     2       3       2       3\n",
       "new2      3   NaN   NaN       2     NaN       1"
      ]
     },
     "execution_count": 57,
     "metadata": {},
     "output_type": "execute_result"
    }
   ],
   "source": [
    "frame.T"
   ]
  },
  {
   "cell_type": "code",
   "execution_count": 58,
   "metadata": {},
   "outputs": [
    {
     "data": {
      "text/plain": [
       "state  year   state  pop  dept  new  new2\n",
       "year                                     \n",
       "0      2000    Ohio  1.5     1    2   3.0\n",
       "1      2001    Ohio  1.7     2    3   NaN\n",
       "2      2002    Ohio  3.6     3    2   NaN\n",
       "3      2001  Nevada  2.4     4    3   2.0\n",
       "4      2002  Nevada  2.9     5    2   NaN\n",
       "5      2003  Nevada  3.2     6    3   1.0"
      ]
     },
     "execution_count": 58,
     "metadata": {},
     "output_type": "execute_result"
    }
   ],
   "source": [
    "frame.index.name = 'year'; frame.columns.name = 'state'\n",
    "frame"
   ]
  },
  {
   "cell_type": "code",
   "execution_count": 61,
   "metadata": {},
   "outputs": [
    {
     "data": {
      "text/plain": [
       "state    year   state  pop  dept  new  new2\n",
       "year                                       \n",
       "0.0    2000.0    Ohio  1.5   1.0  2.0   3.0\n",
       "1.0    2001.0    Ohio  1.7   2.0  3.0   NaN\n",
       "2.5       NaN     NaN  NaN   NaN  NaN   NaN\n",
       "3.0    2001.0  Nevada  2.4   4.0  3.0   2.0\n",
       "4.0    2002.0  Nevada  2.9   5.0  2.0   NaN\n",
       "5.0    2003.0  Nevada  3.2   6.0  3.0   1.0\n",
       "6.0       NaN     NaN  NaN   NaN  NaN   NaN"
      ]
     },
     "execution_count": 61,
     "metadata": {},
     "output_type": "execute_result"
    }
   ],
   "source": [
    "frame.reindex([0,1,2.5,3,4,5,6])"
   ]
  },
  {
   "cell_type": "code",
   "execution_count": 64,
   "metadata": {},
   "outputs": [
    {
     "data": {
      "text/plain": [
       "            b    c    d\n",
       "Ohio      0.0  1.0  2.0\n",
       "Texas     3.0  4.0  5.0\n",
       "Colorado  6.0  7.0  8.0"
      ]
     },
     "execution_count": 64,
     "metadata": {},
     "output_type": "execute_result"
    }
   ],
   "source": [
    "df1 = pd.DataFrame(np.arange(9.).reshape((3, 3)), columns=list('bcd'),index=['Ohio', 'Texas', 'Colorado'])\n",
    "df1           "
   ]
  },
  {
   "cell_type": "code",
   "execution_count": 65,
   "metadata": {},
   "outputs": [
    {
     "data": {
      "text/plain": [
       "0    7\n",
       "1   -5\n",
       "2    7\n",
       "3    4\n",
       "4    2\n",
       "5    0\n",
       "6    4\n",
       "dtype: int64"
      ]
     },
     "execution_count": 65,
     "metadata": {},
     "output_type": "execute_result"
    }
   ],
   "source": [
    "obj = pd.Series([7, -5, 7, 4, 2, 0, 4])\n",
    "obj"
   ]
  },
  {
   "cell_type": "code",
   "execution_count": 66,
   "metadata": {},
   "outputs": [
    {
     "data": {
      "text/plain": [
       "0    6.5\n",
       "1    1.0\n",
       "2    6.5\n",
       "3    4.5\n",
       "4    3.0\n",
       "5    2.0\n",
       "6    4.5\n",
       "dtype: float64"
      ]
     },
     "execution_count": 66,
     "metadata": {},
     "output_type": "execute_result"
    }
   ],
   "source": [
    "obj.rank()"
   ]
  },
  {
   "cell_type": "code",
   "execution_count": 69,
   "metadata": {},
   "outputs": [
    {
     "data": {
      "text/plain": [
       "   one  two\n",
       "f  1.0  NaN\n",
       "s  7.1 -9.0\n",
       "t  NaN  0.0\n",
       "f  9.0  8.0"
      ]
     },
     "execution_count": 69,
     "metadata": {},
     "output_type": "execute_result"
    }
   ],
   "source": [
    "df4 = DataFrame([[1,np.nan],[7.1,-9],[np.nan,0],[9,8]],index=['f','s','t','f'],columns=['one','two'])\n",
    "df4"
   ]
  },
  {
   "cell_type": "code",
   "execution_count": 71,
   "metadata": {},
   "outputs": [
    {
     "data": {
      "text/plain": [
       "   one  two\n",
       "f  1.0  NaN\n",
       "f  9.0  8.0\n",
       "s  7.1 -9.0\n",
       "t  NaN  0.0"
      ]
     },
     "execution_count": 71,
     "metadata": {},
     "output_type": "execute_result"
    }
   ],
   "source": [
    "df4.sort_index()"
   ]
  },
  {
   "cell_type": "code",
   "execution_count": 72,
   "metadata": {},
   "outputs": [
    {
     "data": {
      "text/plain": [
       "one    17.1\n",
       "two    -1.0\n",
       "dtype: float64"
      ]
     },
     "execution_count": 72,
     "metadata": {},
     "output_type": "execute_result"
    }
   ],
   "source": [
    "df4.sum()"
   ]
  },
  {
   "cell_type": "code",
   "execution_count": null,
   "metadata": {},
   "outputs": [],
   "source": []
  },
  {
   "cell_type": "code",
   "execution_count": null,
   "metadata": {},
   "outputs": [],
   "source": []
  },
  {
   "cell_type": "code",
   "execution_count": null,
   "metadata": {},
   "outputs": [],
   "source": []
  },
  {
   "cell_type": "code",
   "execution_count": null,
   "metadata": {},
   "outputs": [],
   "source": []
  },
  {
   "cell_type": "code",
   "execution_count": 77,
   "metadata": {},
   "outputs": [],
   "source": [
    "import pandas_datareader.data as web\n",
    "all_data = {ticker: web.get_data_yahoo(ticker) for ticker in ['AAPL','IBM','MSFT','GOOG']}\n",
    "\n",
    "price = pd.DataFrame({ticker: data['Adj Close'] for ticker, data in all_data.items()}) \n",
    "volume = pd.DataFrame({ticker: data['Volume'] for ticker, data in all_data.items()})"
   ]
  },
  {
   "cell_type": "code",
   "execution_count": 78,
   "metadata": {},
   "outputs": [
    {
     "data": {
      "text/plain": [
       "{'AAPL':                   High         Low        Open       Close       Volume  \\\n",
       " Date                                                                      \n",
       " 2009-12-31   30.478571   30.080000   30.447144   30.104286   88102700.0   \n",
       " 2010-01-04   30.642857   30.340000   30.490000   30.572857  123432400.0   \n",
       " 2010-01-05   30.798571   30.464285   30.657143   30.625713  150476200.0   \n",
       " 2010-01-06   30.747143   30.107143   30.625713   30.138571  138040000.0   \n",
       " 2010-01-07   30.285715   29.864286   30.250000   30.082857  119282800.0   \n",
       " ...                ...         ...         ...         ...          ...   \n",
       " 2018-12-10  170.089996  163.330002  165.000000  169.600006   62026000.0   \n",
       " 2018-12-11  171.789993  167.000000  171.660004  168.630005   47281700.0   \n",
       " 2018-12-12  171.919998  169.020004  170.399994  169.100006   35627700.0   \n",
       " 2018-12-13  172.570007  169.550003  170.490005  170.949997   31898600.0   \n",
       " 2018-12-14  169.080002  165.279999  169.000000  165.479996   40634300.0   \n",
       " \n",
       "              Adj Close  \n",
       " Date                    \n",
       " 2009-12-31   20.159719  \n",
       " 2010-01-04   20.473503  \n",
       " 2010-01-05   20.508902  \n",
       " 2010-01-06   20.182680  \n",
       " 2010-01-07   20.145369  \n",
       " ...                ...  \n",
       " 2018-12-10  169.600006  \n",
       " 2018-12-11  168.630005  \n",
       " 2018-12-12  169.100006  \n",
       " 2018-12-13  170.949997  \n",
       " 2018-12-14  165.479996  \n",
       " \n",
       " [2255 rows x 6 columns],\n",
       " 'IBM':                   High         Low        Open       Close     Volume  \\\n",
       " Date                                                                    \n",
       " 2009-12-31  132.850006  130.750000  132.410004  130.899994  4223400.0   \n",
       " 2010-01-04  132.970001  130.850006  131.179993  132.449997  6155300.0   \n",
       " 2010-01-05  131.850006  130.100006  131.679993  130.850006  6841400.0   \n",
       " 2010-01-06  131.490005  129.809998  130.679993  130.000000  5605300.0   \n",
       " 2010-01-07  130.250000  128.910004  129.869995  129.550003  5840600.0   \n",
       " ...                ...         ...         ...         ...        ...   \n",
       " 2018-12-10  121.680000  118.519997  119.739998  121.129997  6549500.0   \n",
       " 2018-12-11  123.809998  120.000000  123.250000  120.889999  5043100.0   \n",
       " 2018-12-12  122.879997  121.000000  122.510002  121.160004  3560500.0   \n",
       " 2018-12-13  121.790001  120.169998  121.260002  120.730003  3993600.0   \n",
       " 2018-12-14  121.110001  119.440002  119.500000  119.900002  4552800.0   \n",
       " \n",
       "              Adj Close  \n",
       " Date                    \n",
       " 2009-12-31  100.460022  \n",
       " 2010-01-04  101.649574  \n",
       " 2010-01-05  100.421654  \n",
       " 2010-01-06   99.769310  \n",
       " 2010-01-07   99.423950  \n",
       " ...                ...  \n",
       " 2018-12-10  121.129997  \n",
       " 2018-12-11  120.889999  \n",
       " 2018-12-12  121.160004  \n",
       " 2018-12-13  120.730003  \n",
       " 2018-12-14  119.900002  \n",
       " \n",
       " [2255 rows x 6 columns],\n",
       " 'MSFT':                   High         Low        Open       Close      Volume  \\\n",
       " Date                                                                     \n",
       " 2009-12-31   30.990000   30.480000   30.980000   30.480000  31929700.0   \n",
       " 2010-01-04   31.100000   30.590000   30.620001   30.950001  38409100.0   \n",
       " 2010-01-05   31.100000   30.639999   30.850000   30.959999  49749600.0   \n",
       " 2010-01-06   31.080000   30.520000   30.879999   30.770000  58182400.0   \n",
       " 2010-01-07   30.700001   30.190001   30.629999   30.450001  50559700.0   \n",
       " ...                ...         ...         ...         ...         ...   \n",
       " 2018-12-10  107.980003  103.889999  104.800003  107.589996  40801500.0   \n",
       " 2018-12-11  110.949997  107.440002  109.800003  108.589996  42381900.0   \n",
       " 2018-12-12  111.269997  109.040001  110.889999  109.080002  36183000.0   \n",
       " 2018-12-13  110.870003  108.629997  109.580002  109.449997  31333400.0   \n",
       " 2018-12-14  109.260002  105.500000  108.250000  106.029999  46965600.0   \n",
       " \n",
       "              Adj Close  \n",
       " Date                    \n",
       " 2009-12-31   24.345514  \n",
       " 2010-01-04   24.720928  \n",
       " 2010-01-05   24.728914  \n",
       " 2010-01-06   24.577150  \n",
       " 2010-01-07   24.321552  \n",
       " ...                ...  \n",
       " 2018-12-10  107.589996  \n",
       " 2018-12-11  108.589996  \n",
       " 2018-12-12  109.080002  \n",
       " 2018-12-13  109.449997  \n",
       " 2018-12-14  106.029999  \n",
       " \n",
       " [2255 rows x 6 columns],\n",
       " 'GOOG':                    High          Low         Open        Close      Volume  \\\n",
       " Date                                                                         \n",
       " 2009-12-31   310.679321   307.986847   310.356445   307.986847   2455400.0   \n",
       " 2010-01-04   312.721039   310.103088   311.449310   311.349976   3937800.0   \n",
       " 2010-01-05   311.891449   308.761810   311.563568   309.978882   6048500.0   \n",
       " 2010-01-06   310.907837   301.220856   310.907837   302.164703   8009000.0   \n",
       " 2010-01-07   303.029083   294.410156   302.731018   295.130463  12912000.0   \n",
       " ...                 ...          ...          ...          ...         ...   \n",
       " 2018-12-10  1048.449951  1023.289978  1035.050049  1039.550049   1807700.0   \n",
       " 2018-12-11  1060.599976  1039.839966  1056.489990  1051.750000   1394700.0   \n",
       " 2018-12-12  1081.650024  1062.790039  1068.000000  1063.680054   1523800.0   \n",
       " 2018-12-13  1079.760010  1053.930054  1068.069946  1061.900024   1329800.0   \n",
       " 2018-12-14  1062.599976  1040.790039  1049.979980  1042.099976   1685900.0   \n",
       " \n",
       "               Adj Close  \n",
       " Date                     \n",
       " 2009-12-31   307.986847  \n",
       " 2010-01-04   311.349976  \n",
       " 2010-01-05   309.978882  \n",
       " 2010-01-06   302.164703  \n",
       " 2010-01-07   295.130463  \n",
       " ...                 ...  \n",
       " 2018-12-10  1039.550049  \n",
       " 2018-12-11  1051.750000  \n",
       " 2018-12-12  1063.680054  \n",
       " 2018-12-13  1061.900024  \n",
       " 2018-12-14  1042.099976  \n",
       " \n",
       " [2255 rows x 6 columns]}"
      ]
     },
     "execution_count": 78,
     "metadata": {},
     "output_type": "execute_result"
    }
   ],
   "source": [
    "all_data"
   ]
  },
  {
   "cell_type": "code",
   "execution_count": 80,
   "metadata": {},
   "outputs": [
    {
     "data": {
      "text/plain": [
       "                AAPL       IBM      MSFT      GOOG\n",
       "Date                                              \n",
       "2009-12-31       NaN       NaN       NaN       NaN\n",
       "2010-01-04  0.015565  0.011841  0.015420  0.010920\n",
       "2010-01-05  0.001729 -0.012080  0.000323 -0.004404\n",
       "2010-01-06 -0.015906 -0.006496 -0.006137 -0.025209\n",
       "2010-01-07 -0.001849 -0.003462 -0.010400 -0.023279\n",
       "...              ...       ...       ...       ...\n",
       "2018-12-10  0.006588  0.014999  0.026426  0.002865\n",
       "2018-12-11 -0.005719 -0.001981  0.009295  0.011736\n",
       "2018-12-12  0.002787  0.002233  0.004512  0.011343\n",
       "2018-12-13  0.010940 -0.003549  0.003392 -0.001673\n",
       "2018-12-14 -0.031998 -0.006875 -0.031247 -0.018646\n",
       "\n",
       "[2255 rows x 4 columns]"
      ]
     },
     "execution_count": 80,
     "metadata": {},
     "output_type": "execute_result"
    }
   ],
   "source": [
    "returns = price.pct_change()\n",
    "returns"
   ]
  },
  {
   "cell_type": "code",
   "execution_count": 81,
   "metadata": {},
   "outputs": [
    {
     "data": {
      "text/plain": [
       "                AAPL       IBM      MSFT      GOOG\n",
       "Date                                              \n",
       "2018-12-10  0.006588  0.014999  0.026426  0.002865\n",
       "2018-12-11 -0.005719 -0.001981  0.009295  0.011736\n",
       "2018-12-12  0.002787  0.002233  0.004512  0.011343\n",
       "2018-12-13  0.010940 -0.003549  0.003392 -0.001673\n",
       "2018-12-14 -0.031998 -0.006875 -0.031247 -0.018646"
      ]
     },
     "execution_count": 81,
     "metadata": {},
     "output_type": "execute_result"
    }
   ],
   "source": [
    "returns.tail()"
   ]
  },
  {
   "cell_type": "markdown",
   "metadata": {},
   "source": [
    "# Correlation and Covariance"
   ]
  },
  {
   "cell_type": "markdown",
   "metadata": {},
   "source": [
    "To be continued!"
   ]
  },
  {
   "cell_type": "code",
   "execution_count": null,
   "metadata": {},
   "outputs": [],
   "source": []
  }
 ],
 "metadata": {
  "kernelspec": {
   "display_name": "Python 3",
   "language": "python",
   "name": "python3"
  },
  "language_info": {
   "codemirror_mode": {
    "name": "ipython",
    "version": 3
   },
   "file_extension": ".py",
   "mimetype": "text/x-python",
   "name": "python",
   "nbconvert_exporter": "python",
   "pygments_lexer": "ipython3",
   "version": "3.7.0"
  }
 },
 "nbformat": 4,
 "nbformat_minor": 2
}
