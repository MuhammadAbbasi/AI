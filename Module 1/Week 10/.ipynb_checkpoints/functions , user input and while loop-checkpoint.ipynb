{
 "cells": [
  {
   "cell_type": "code",
   "execution_count": 1,
   "metadata": {},
   "outputs": [
    {
     "data": {
      "text/plain": [
       "'Shahzad Ahsan'"
      ]
     },
     "execution_count": 1,
     "metadata": {},
     "output_type": "execute_result"
    }
   ],
   "source": [
    "def name (first_name , last_name):\n",
    "    full_name = first_name + ' ' + last_name\n",
    "    return full_name.title()\n",
    "\n",
    "name('Shahzad' , 'Ahsan')"
   ]
  },
  {
   "cell_type": "code",
   "execution_count": 2,
   "metadata": {},
   "outputs": [
    {
     "data": {
      "text/plain": [
       "{'first': 'batool', 'last': 'jahnazaib'}"
      ]
     },
     "execution_count": 2,
     "metadata": {},
     "output_type": "execute_result"
    }
   ],
   "source": [
    "def person(firstname , lastname):\n",
    "    buildperson= {'first' : firstname , 'last' : lastname}\n",
    "    return buildperson\n",
    "\n",
    "person('batool' , 'jahnazaib')"
   ]
  },
  {
   "cell_type": "code",
   "execution_count": 3,
   "metadata": {},
   "outputs": [
    {
     "name": "stdout",
     "output_type": "stream",
     "text": [
      "{'first': 'jimi', 'last': 'hendrix', 'age': 27}\n"
     ]
    }
   ],
   "source": [
    "def build_person(first_name, last_name, age=''):    \n",
    "    person = {'first': first_name, 'last': last_name}   \n",
    "    if age:       \n",
    "        person['age'] = age   \n",
    "    return person\n",
    "\n",
    "musician = build_person('jimi', 'hendrix', age=27)\n",
    "print(musician)"
   ]
  },
  {
   "cell_type": "code",
   "execution_count": null,
   "metadata": {},
   "outputs": [],
   "source": [
    "def a(x, y):\n",
    "  print (x, y)\n",
    "\n",
    "def b(other, function, *args, **kwargs):\n",
    "  function(*args, **kwargs)\n",
    "  print (other)\n",
    "\n",
    "b('python', a , 'hello', 'friends')"
   ]
  },
  {
   "cell_type": "code",
   "execution_count": null,
   "metadata": {},
   "outputs": [],
   "source": [
    "def x(a):\n",
    "    print(a)\n",
    "    return a\n",
    "x(6)\n",
    "\n",
    "def y(old_func , a):\n",
    "    return old_func(a)\n",
    "\n",
    "y(x, 5)"
   ]
  },
  {
   "cell_type": "code",
   "execution_count": null,
   "metadata": {},
   "outputs": [],
   "source": [
    "def square(x):\n",
    "    y = x * x\n",
    "    return y\n",
    "\n",
    "def sum_of_squares(x, y, z):\n",
    "    a = square(x)\n",
    "    b = square(y)\n",
    "    c = square(z)\n",
    "\n",
    "    return a + b + c\n",
    "\n",
    "a = -5\n",
    "b = 2\n",
    "c = 1\n",
    "result = sum_of_squares(a, b, c)\n",
    "print(result)"
   ]
  },
  {
   "cell_type": "code",
   "execution_count": null,
   "metadata": {},
   "outputs": [],
   "source": [
    "def y():\n",
    "    print('nested')\n",
    "    \n",
    "def x(z):\n",
    "    print('This is function argument.')\n",
    "    z()\n",
    "    \n",
    "x(y)    "
   ]
  },
  {
   "cell_type": "code",
   "execution_count": 6,
   "metadata": {},
   "outputs": [
    {
     "name": "stdout",
     "output_type": "stream",
     "text": [
      "WallClockTime is  :12pm\n",
      "WristWatchTime is  :12pm\n",
      "WallClockTime is  :1:30pm\n",
      "myWristWatchTime is  :2pm\n",
      "1:30pm\n"
     ]
    }
   ],
   "source": [
    "wallClock=\"1:30pm\"\n",
    "\n",
    "def setWristWatch(newTime):\n",
    "    \n",
    "    wristWatchTime=newTime\n",
    "    wallClock=newTime\n",
    "    print(\"WallClockTime is  :\"+ wallClock)\n",
    "    print(\"WristWatchTime is  :\"+ wristWatchTime)\n",
    "\n",
    "def setMyWristWatch(newTime):\n",
    "    \n",
    "    myWristWatchTime=newTime\n",
    "    \n",
    "    print(\"WallClockTime is  :\"+ wallClock)\n",
    "    print(\"myWristWatchTime is  :\"+ myWristWatchTime)\n",
    "wallClock=\"01:pm\"\n",
    "setWristWatch(\"12pm\")\n",
    "setMyWristWatch(\"2pm\")\n",
    "wallClock=\"5pm\"\n",
    "\n"
   ]
  },
  {
   "cell_type": "code",
   "execution_count": null,
   "metadata": {},
   "outputs": [],
   "source": []
  },
  {
   "cell_type": "markdown",
   "metadata": {},
   "source": [
    "# user input and while loop"
   ]
  },
  {
   "cell_type": "code",
   "execution_count": null,
   "metadata": {},
   "outputs": [],
   "source": [
    "message = input(\"Tell me something, and I will repeat it back to you: \").title() \n",
    "print(message)"
   ]
  },
  {
   "cell_type": "code",
   "execution_count": null,
   "metadata": {},
   "outputs": [],
   "source": [
    "height = int(input('Enter your height in inches: '))\n",
    "if height >= 60:\n",
    "    print(' \"you are able to ride horse\"')\n",
    "else:\n",
    "    print(\"you'll we able to ride when you are tall enough.\")\n"
   ]
  },
  {
   "cell_type": "code",
   "execution_count": null,
   "metadata": {},
   "outputs": [],
   "source": [
    "number = int(input(\"Enter a number , and I'll tell you it's even or odd: \"))\n",
    "if number % 2 == 0:\n",
    "    print(\"The number \" , number , \" is even..\")\n",
    "else:\n",
    "    print(\"The number \" , number , \" is odd..\")\n",
    "    "
   ]
  },
  {
   "cell_type": "code",
   "execution_count": 10,
   "metadata": {},
   "outputs": [
    {
     "name": "stdout",
     "output_type": "stream",
     "text": [
      "1\n",
      "2\n",
      "3\n",
      "4\n",
      "5\n"
     ]
    }
   ],
   "source": [
    "current_number = 1\n",
    "while current_number <= 5:\n",
    "    print(current_number)\n",
    "    current_number +=1"
   ]
  },
  {
   "cell_type": "code",
   "execution_count": 12,
   "metadata": {},
   "outputs": [
    {
     "name": "stdout",
     "output_type": "stream",
     "text": [
      "Tell me something i'll repeat to you: \n",
      "Enter 'quit' to close the program.Hamza\n",
      "hamza\n",
      "Tell me something i'll repeat to you: \n",
      "Enter 'quit' to close the program.MOhsin\n",
      "mohsin\n",
      "Tell me something i'll repeat to you: \n",
      "Enter 'quit' to close the program.quit\n",
      "quit\n"
     ]
    }
   ],
   "source": [
    "prompt = \"Tell me something i'll repeat to you: \"\n",
    "prompt += \"\\nEnter 'quit' to close the program.\"\n",
    "message = ''\n",
    "while message != 'quit':\n",
    "    message = input(prompt).lower()\n",
    "    print(message)\n"
   ]
  },
  {
   "cell_type": "code",
   "execution_count": null,
   "metadata": {},
   "outputs": [],
   "source": [
    "while True:\n",
    "    city = input(\"\\nEnter the name of the city you want to visit? \\nEnter 'quit' to close the program: \" ).lower()\n",
    "    if city == 'quit':\n",
    "        break\n",
    "    else:\n",
    "        print(\"I will love to go to \" + city.title() + '...' )"
   ]
  },
  {
   "cell_type": "code",
   "execution_count": null,
   "metadata": {},
   "outputs": [],
   "source": [
    "CleanCity = ['karachi' , 'Santa Fe' , 'Tucson' , 'Great Falls']\n",
    "user_input = \"\"\n",
    "while user_input != 'q':\n",
    "    user_input = input('Enter a name of the city , or press \"q\" to terminate the program: ')\n",
    "    if user_input != \"q\":\n",
    "        for CleanCitys in CleanCity:\n",
    "            if user_input == CleanCitys:\n",
    "                print(\"It's one of yhe cleanest city.\")\n",
    "                break\n",
    "    else:\n",
    "        print(\"It's not a cleanest city\")\n",
    "        break\n",
    "                "
   ]
  },
  {
   "cell_type": "code",
   "execution_count": 14,
   "metadata": {},
   "outputs": [
    {
     "name": "stdout",
     "output_type": "stream",
     "text": [
      "1\n",
      "3\n",
      "5\n",
      "7\n",
      "9\n"
     ]
    }
   ],
   "source": [
    "current_number= 0\n",
    "while current_number<10:\n",
    "    current_number +=1\n",
    "    if current_number%2==0:\n",
    "        continue\n",
    "    print(current_number)"
   ]
  },
  {
   "cell_type": "code",
   "execution_count": null,
   "metadata": {},
   "outputs": [],
   "source": [
    " y = [] \n",
    "while True:\n",
    "    print(\"Enter 'quit' to terminate the program\") \n",
    "    size = str(input(\"\\n\\nEnter the size of your pizza: \"))\n",
    "    if size == 'quit':\n",
    "        break\n",
    "    else:\n",
    "        print(\"The size of your pizza is \" , size , \".\")\n",
    "    print(\"\\nEnter 'quit' to terminate the program\")     \n",
    "    flavour = input(\"Enter the flovour you want to eat: \").upper()\n",
    "    if flavour == 'QUIT':\n",
    "        break\n",
    "    else:\n",
    "        print(\"The flovour of your pizza is \" + flavour + \".\")\n",
    "    print(\"\\nEnter 'quit' to terminate the program\") \n",
    "    \n",
    "    toppings = ''\n",
    "    while toppings != 'quit':\n",
    "        \n",
    "        toppings = input(\"Enter the toppings you want on your pizza: \").upper()\n",
    "        if toppings == 'QUIT':\n",
    "            break\n",
    "        else:    \n",
    "            y.append(toppings)\n",
    "            \n",
    "        \n",
    "    \n",
    "\n",
    "    print(\"Here is all your toppings: \")\n",
    "    for topping in y:\n",
    "        print(topping)\n",
    "       \n",
    "    order = input(\"Would you like to order more pizza: \")\n",
    "    if order == 'yes':\n",
    "        continue\n",
    "    else:\n",
    "        break\n",
    "        \n",
    "            \n",
    "    \n",
    "        "
   ]
  },
  {
   "cell_type": "code",
   "execution_count": null,
   "metadata": {},
   "outputs": [],
   "source": [
    "print(\"Enter your today schedule\")\n",
    "print(\"Enter Done when done with scheduling\")\n",
    "\n",
    "todo_list = []\n",
    "while True:\n",
    "    list = input(\"> \")\n",
    "    todo_list.append(list)\n",
    "\n",
    "\n",
    "print(\" Here is your all day schedule\")\n",
    "for todo in todo_list:\n",
    "    print(todo)\n"
   ]
  },
  {
   "cell_type": "code",
   "execution_count": 7,
   "metadata": {},
   "outputs": [],
   "source": [
    "def now_say_it():\n",
    "    print(\"what to say\")"
   ]
  },
  {
   "cell_type": "code",
   "execution_count": 8,
   "metadata": {},
   "outputs": [],
   "source": [
    "def say_something(): \n",
    "    what_to_say = \"Hi\"  \n",
    "    now_say_it()"
   ]
  },
  {
   "cell_type": "code",
   "execution_count": 9,
   "metadata": {},
   "outputs": [
    {
     "name": "stdout",
     "output_type": "stream",
     "text": [
      "what to say\n"
     ]
    }
   ],
   "source": [
    "say_something()"
   ]
  },
  {
   "cell_type": "code",
   "execution_count": null,
   "metadata": {},
   "outputs": [],
   "source": [
    " "
   ]
  },
  {
   "cell_type": "code",
   "execution_count": null,
   "metadata": {},
   "outputs": [],
   "source": [
    "\n"
   ]
  },
  {
   "cell_type": "code",
   "execution_count": null,
   "metadata": {},
   "outputs": [],
   "source": [
    " \n"
   ]
  },
  {
   "cell_type": "code",
   "execution_count": null,
   "metadata": {},
   "outputs": [],
   "source": []
  },
  {
   "cell_type": "code",
   "execution_count": null,
   "metadata": {},
   "outputs": [],
   "source": []
  },
  {
   "cell_type": "code",
   "execution_count": null,
   "metadata": {},
   "outputs": [],
   "source": []
  },
  {
   "cell_type": "code",
   "execution_count": null,
   "metadata": {},
   "outputs": [],
   "source": []
  }
 ],
 "metadata": {
  "kernelspec": {
   "display_name": "Python 3",
   "language": "python",
   "name": "python3"
  },
  "language_info": {
   "codemirror_mode": {
    "name": "ipython",
    "version": 3
   },
   "file_extension": ".py",
   "mimetype": "text/x-python",
   "name": "python",
   "nbconvert_exporter": "python",
   "pygments_lexer": "ipython3",
   "version": "3.6.5"
  }
 },
 "nbformat": 4,
 "nbformat_minor": 2
}
