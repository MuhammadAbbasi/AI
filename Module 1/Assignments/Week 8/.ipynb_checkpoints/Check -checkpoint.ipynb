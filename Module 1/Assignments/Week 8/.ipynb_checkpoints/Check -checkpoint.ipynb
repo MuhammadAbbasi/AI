{
 "cells": [
  {
   "cell_type": "code",
   "execution_count": 3,
   "metadata": {},
   "outputs": [
    {
     "name": "stdout",
     "output_type": "stream",
     "text": [
      "10 18\n",
      "hot and bad hey 1\n",
      "hot and bad hello\n"
     ]
    },
    {
     "data": {
      "text/plain": [
       "'This is a good day!!'"
      ]
     },
     "execution_count": 3,
     "metadata": {},
     "output_type": "execute_result"
    }
   ],
   "source": [
    "s = 'This is a hot and bad day!!'\n",
    "\n",
    "a = s.find('hot')\n",
    "b = s.find('bad')\n",
    "\n",
    "print(a,b)\n",
    "print(s[a:b+3],'hey',1)\n",
    "if b > a:\n",
    "    z = s[a:b+3]\n",
    "    print(z,'hello')\n",
    "    s1 = s.replace(z,'good')\n",
    "s1\n"
   ]
  },
  {
   "cell_type": "code",
   "execution_count": 22,
   "metadata": {},
   "outputs": [
    {
     "name": "stdout",
     "output_type": "stream",
     "text": [
      "4\n"
     ]
    },
    {
     "data": {
      "text/plain": [
       "44"
      ]
     },
     "execution_count": 22,
     "metadata": {},
     "output_type": "execute_result"
    }
   ],
   "source": [
    "l = [11,55,88,11,22,33,44,55,66,77,88,29]\n",
    "a=l.index(22)\n",
    "print(a)\n",
    "b=l.pop(6)\n",
    "b"
   ]
  },
  {
   "cell_type": "code",
   "execution_count": null,
   "metadata": {},
   "outputs": [],
   "source": []
  }
 ],
 "metadata": {
  "kernelspec": {
   "display_name": "Python 3",
   "language": "python",
   "name": "python3"
  },
  "language_info": {
   "codemirror_mode": {
    "name": "ipython",
    "version": 3
   },
   "file_extension": ".py",
   "mimetype": "text/x-python",
   "name": "python",
   "nbconvert_exporter": "python",
   "pygments_lexer": "ipython3",
   "version": "3.6.5"
  }
 },
 "nbformat": 4,
 "nbformat_minor": 2
}
