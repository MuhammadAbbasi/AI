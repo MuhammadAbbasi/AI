{
 "cells": [
  {
   "cell_type": "code",
   "execution_count": 21,
   "metadata": {},
   "outputs": [
    {
     "name": "stdout",
     "output_type": "stream",
     "text": [
      "remove_adjacent\n"
     ]
    },
    {
     "ename": "ValueError",
     "evalue": "2 is not in list",
     "output_type": "error",
     "traceback": [
      "\u001b[1;31m---------------------------------------------------------------------------\u001b[0m",
      "\u001b[1;31mValueError\u001b[0m                                Traceback (most recent call last)",
      "\u001b[1;32m<ipython-input-21-196c175a0129>\u001b[0m in \u001b[0;36m<module>\u001b[1;34m()\u001b[0m\n\u001b[0;32m     67\u001b[0m \u001b[1;33m\u001b[0m\u001b[0m\n\u001b[0;32m     68\u001b[0m \u001b[1;32mif\u001b[0m \u001b[0m__name__\u001b[0m \u001b[1;33m==\u001b[0m \u001b[1;34m'__main__'\u001b[0m\u001b[1;33m:\u001b[0m\u001b[1;33m\u001b[0m\u001b[0m\n\u001b[1;32m---> 69\u001b[1;33m   \u001b[0mmain\u001b[0m\u001b[1;33m(\u001b[0m\u001b[1;33m)\u001b[0m\u001b[1;33m\u001b[0m\u001b[0m\n\u001b[0m",
      "\u001b[1;32m<ipython-input-21-196c175a0129>\u001b[0m in \u001b[0;36mmain\u001b[1;34m()\u001b[0m\n\u001b[0;32m     52\u001b[0m \u001b[1;32mdef\u001b[0m \u001b[0mmain\u001b[0m\u001b[1;33m(\u001b[0m\u001b[1;33m)\u001b[0m\u001b[1;33m:\u001b[0m\u001b[1;33m\u001b[0m\u001b[0m\n\u001b[0;32m     53\u001b[0m     \u001b[0mprint\u001b[0m \u001b[1;33m(\u001b[0m\u001b[1;34m'remove_adjacent'\u001b[0m\u001b[1;33m)\u001b[0m\u001b[1;33m\u001b[0m\u001b[0m\n\u001b[1;32m---> 54\u001b[1;33m     \u001b[0mtest\u001b[0m\u001b[1;33m(\u001b[0m\u001b[0mremove_adjacent\u001b[0m\u001b[1;33m(\u001b[0m\u001b[1;33m[\u001b[0m\u001b[1;36m1\u001b[0m\u001b[1;33m,\u001b[0m \u001b[1;36m2\u001b[0m\u001b[1;33m,\u001b[0m \u001b[1;36m2\u001b[0m\u001b[1;33m,\u001b[0m \u001b[1;36m3\u001b[0m\u001b[1;33m]\u001b[0m\u001b[1;33m)\u001b[0m\u001b[1;33m,\u001b[0m \u001b[1;33m[\u001b[0m\u001b[1;36m1\u001b[0m\u001b[1;33m,\u001b[0m \u001b[1;36m2\u001b[0m\u001b[1;33m,\u001b[0m \u001b[1;36m3\u001b[0m\u001b[1;33m]\u001b[0m\u001b[1;33m)\u001b[0m\u001b[1;33m\u001b[0m\u001b[0m\n\u001b[0m\u001b[0;32m     55\u001b[0m     \u001b[0mtest\u001b[0m\u001b[1;33m(\u001b[0m\u001b[0mremove_adjacent\u001b[0m\u001b[1;33m(\u001b[0m\u001b[1;33m[\u001b[0m\u001b[1;36m2\u001b[0m\u001b[1;33m,\u001b[0m \u001b[1;36m2\u001b[0m\u001b[1;33m,\u001b[0m \u001b[1;36m3\u001b[0m\u001b[1;33m,\u001b[0m \u001b[1;36m3\u001b[0m\u001b[1;33m,\u001b[0m \u001b[1;36m3\u001b[0m\u001b[1;33m]\u001b[0m\u001b[1;33m)\u001b[0m\u001b[1;33m,\u001b[0m \u001b[1;33m[\u001b[0m\u001b[1;36m2\u001b[0m\u001b[1;33m,\u001b[0m \u001b[1;36m3\u001b[0m\u001b[1;33m]\u001b[0m\u001b[1;33m)\u001b[0m\u001b[1;33m\u001b[0m\u001b[0m\n\u001b[0;32m     56\u001b[0m     \u001b[0mtest\u001b[0m\u001b[1;33m(\u001b[0m\u001b[0mremove_adjacent\u001b[0m\u001b[1;33m(\u001b[0m\u001b[1;33m[\u001b[0m\u001b[1;33m]\u001b[0m\u001b[1;33m)\u001b[0m\u001b[1;33m,\u001b[0m \u001b[1;33m[\u001b[0m\u001b[1;33m]\u001b[0m\u001b[1;33m)\u001b[0m\u001b[1;33m\u001b[0m\u001b[0m\n",
      "\u001b[1;32m<ipython-input-21-196c175a0129>\u001b[0m in \u001b[0;36mremove_adjacent\u001b[1;34m(nums)\u001b[0m\n\u001b[0;32m     16\u001b[0m             \u001b[1;32melse\u001b[0m\u001b[1;33m:\u001b[0m\u001b[1;33m\u001b[0m\u001b[0m\n\u001b[0;32m     17\u001b[0m                 \u001b[1;32mpass\u001b[0m\u001b[1;33m\u001b[0m\u001b[0m\n\u001b[1;32m---> 18\u001b[1;33m             \u001b[0mz\u001b[0m \u001b[1;33m=\u001b[0m \u001b[0mnums\u001b[0m\u001b[1;33m[\u001b[0m\u001b[0mnums\u001b[0m\u001b[1;33m.\u001b[0m\u001b[0mindex\u001b[0m\u001b[1;33m(\u001b[0m\u001b[0mb\u001b[0m\u001b[1;33m)\u001b[0m\u001b[1;33m]\u001b[0m\u001b[1;33m\u001b[0m\u001b[0m\n\u001b[0m\u001b[0;32m     19\u001b[0m             \u001b[0ml\u001b[0m \u001b[1;33m=\u001b[0m \u001b[0mlen\u001b[0m\u001b[1;33m(\u001b[0m\u001b[0mnums\u001b[0m\u001b[1;33m)\u001b[0m\u001b[1;33m\u001b[0m\u001b[0m\n\u001b[0;32m     20\u001b[0m     \u001b[1;31m# +++your code here+++\u001b[0m\u001b[1;33m\u001b[0m\u001b[1;33m\u001b[0m\u001b[0m\n",
      "\u001b[1;31mValueError\u001b[0m: 2 is not in list"
     ]
    }
   ],
   "source": [
    "# %load assignment4_list.py\n",
    "# Additional basic list exercises\n",
    "\n",
    "# D. Given a list of numbers, return a list where\n",
    "# all adjacent == elements have been reduced to a single element,\n",
    "# so [1, 2, 2, 3] returns [1, 2, 3]. You may create a new list or\n",
    "# modify the passed in list.\n",
    "def remove_adjacent(nums):\n",
    "    z = nums[0]\n",
    "    l = len(nums)\n",
    "    \n",
    "    for b in nums[1:]:\n",
    "        for a in range(l):\n",
    "            if b == z:\n",
    "                nums.remove(b)\n",
    "            else:\n",
    "                pass\n",
    "            z = nums[]\n",
    "            l = len(nums)\n",
    "    # +++your code here+++\n",
    "    return nums\n",
    "\n",
    "\n",
    "# E. Given two lists sorted in increasing order, create and return a merged\n",
    "# list of all the elements in sorted order. You may modify the passed in lists.\n",
    "# Ideally, the solution should work in \"linear\" time, making a single\n",
    "# pass of both lists.\n",
    "def linear_merge(list1, list2):\n",
    "  # +++your code here+++\n",
    "  return\n",
    "\n",
    "# Note: the solution above is kind of cute, but unforunately list.pop(0)\n",
    "# is not constant time with the standard python list implementation, so\n",
    "# the above is not strictly linear time.\n",
    "# An alternate approach uses pop(-1) to remove the endmost elements\n",
    "# from each list, building a solution list which is backwards.\n",
    "# Then use reversed() to put the result back in the correct order. That\n",
    "# solution works in linear time, but is more ugly.\n",
    "\n",
    "\n",
    "# Simple provided test() function used in main() to print\n",
    "# what each function returns vs. what it's supposed to return.\n",
    "def test(got, expected):\n",
    "    if got == expected:\n",
    "        prefix = ' OK '\n",
    "    else:\n",
    "        prefix = '  X '\n",
    "    print ('%s got: %s expected: %s' % (prefix, repr(got), repr(expected)))\n",
    "\n",
    "\n",
    "# Calls the above functions with interesting inputs.\n",
    "def main():\n",
    "    print ('remove_adjacent')\n",
    "    test(remove_adjacent([1, 2, 2, 3]), [1, 2, 3])\n",
    "    test(remove_adjacent([2, 2, 3, 3, 3]), [2, 3])\n",
    "    test(remove_adjacent([]), [])\n",
    "\n",
    "    print()\n",
    "    print ('linear_merge')\n",
    "    test(linear_merge(['aa', 'xx', 'zz'], ['bb', 'cc']),\n",
    "       ['aa', 'bb', 'cc', 'xx', 'zz'])\n",
    "    test(linear_merge(['aa', 'xx'], ['bb', 'cc', 'zz']),\n",
    "       ['aa', 'bb', 'cc', 'xx', 'zz'])\n",
    "    test(linear_merge(['aa', 'aa'], ['aa', 'bb', 'bb']),\n",
    "       ['aa', 'aa', 'aa', 'bb', 'bb'])\n",
    "\n",
    "\n",
    "if __name__ == '__main__':\n",
    "  main()\n"
   ]
  },
  {
   "cell_type": "code",
   "execution_count": null,
   "metadata": {},
   "outputs": [],
   "source": []
  }
 ],
 "metadata": {
  "kernelspec": {
   "display_name": "Python 3",
   "language": "python",
   "name": "python3"
  },
  "language_info": {
   "codemirror_mode": {
    "name": "ipython",
    "version": 3
   },
   "file_extension": ".py",
   "mimetype": "text/x-python",
   "name": "python",
   "nbconvert_exporter": "python",
   "pygments_lexer": "ipython3",
   "version": "3.6.5"
  }
 },
 "nbformat": 4,
 "nbformat_minor": 2
}
