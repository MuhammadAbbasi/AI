{
 "cells": [
  {
   "cell_type": "code",
   "execution_count": 1,
   "metadata": {},
   "outputs": [],
   "source": [
    "#read chapter 63 onwards"
   ]
  },
  {
   "cell_type": "code",
   "execution_count": 2,
   "metadata": {},
   "outputs": [],
   "source": [
    "#collection of attribute and behaviour of objects"
   ]
  },
  {
   "cell_type": "code",
   "execution_count": 3,
   "metadata": {},
   "outputs": [],
   "source": [
    "#Object is an instance of class"
   ]
  },
  {
   "cell_type": "code",
   "execution_count": 4,
   "metadata": {},
   "outputs": [],
   "source": [
    "#this shifted the object programming paradym to an easier and better way"
   ]
  },
  {
   "cell_type": "code",
   "execution_count": 5,
   "metadata": {},
   "outputs": [],
   "source": [
    "#class is a blueprint of an object"
   ]
  },
  {
   "cell_type": "code",
   "execution_count": 12,
   "metadata": {},
   "outputs": [
    {
     "name": "stdout",
     "output_type": "stream",
     "text": [
      "in self\n",
      "First name:  M Last name:  A\n"
     ]
    }
   ],
   "source": [
    "class Patient:\n",
    "    _fname = ''\n",
    "    _lname = ''\n",
    "    def __init__ (self,fname,lname):\n",
    "        self.fname = fname\n",
    "        self.lname = lname\n",
    "        print(\"in self\")\n",
    "    def display(self):\n",
    "        print(\"First name: \",self.fname,\"Last name: \",self.lname)\n",
    "        \n",
    "a = Patient(\"M\",'A')\n",
    "a.display()"
   ]
  },
  {
   "cell_type": "code",
   "execution_count": 11,
   "metadata": {},
   "outputs": [],
   "source": [
    "#variables scope is made global inside a class by using self key word"
   ]
  },
  {
   "cell_type": "code",
   "execution_count": 13,
   "metadata": {},
   "outputs": [
    {
     "name": "stdout",
     "output_type": "stream",
     "text": [
      "First name:  AA Last name:  A\n"
     ]
    }
   ],
   "source": [
    "a.fname = 'AA'\n",
    "a.display()"
   ]
  },
  {
   "cell_type": "code",
   "execution_count": 14,
   "metadata": {},
   "outputs": [
    {
     "name": "stdout",
     "output_type": "stream",
     "text": [
      "AA\n"
     ]
    }
   ],
   "source": [
    "print(a.fname)"
   ]
  },
  {
   "cell_type": "markdown",
   "metadata": {},
   "source": [
    "by usisng dot operator u can access its atribute and methods"
   ]
  },
  {
   "cell_type": "code",
   "execution_count": 15,
   "metadata": {},
   "outputs": [],
   "source": [
    "#if you want to create a class but don't want to include any data/code in it, just write pass"
   ]
  },
  {
   "cell_type": "code",
   "execution_count": 16,
   "metadata": {},
   "outputs": [],
   "source": [
    "class creating_pass_class():\n",
    "    pass"
   ]
  },
  {
   "cell_type": "code",
   "execution_count": 18,
   "metadata": {},
   "outputs": [],
   "source": [
    "a = creating_pass_class()"
   ]
  },
  {
   "cell_type": "code",
   "execution_count": 19,
   "metadata": {},
   "outputs": [],
   "source": [
    "#hence no error"
   ]
  },
  {
   "cell_type": "markdown",
   "metadata": {},
   "source": [
    "---"
   ]
  },
  {
   "cell_type": "code",
   "execution_count": 22,
   "metadata": {},
   "outputs": [],
   "source": [
    "#Assignment"
   ]
  },
  {
   "cell_type": "code",
   "execution_count": 35,
   "metadata": {},
   "outputs": [],
   "source": [
    "class Restaurant():\n",
    "    def __init__(self,rest_name,cuisine):\n",
    "        self.rest = rest_name\n",
    "        self.cuis = cuisine\n",
    "    def desc(self):\n",
    "        print(\"Restaurant name is:\",self.rest)\n",
    "        print(\"Cuisine name is:   \",self.cuis)\n",
    "    def open_restaurant(self):\n",
    "        print(\"Good for you! We are open!\")\n",
    "        "
   ]
  },
  {
   "cell_type": "code",
   "execution_count": 40,
   "metadata": {},
   "outputs": [
    {
     "name": "stdout",
     "output_type": "stream",
     "text": [
      "ABC\n",
      "XYZ\n",
      "Restaurant name is: ABC\n",
      "Cuisine name is:    XYZ\n",
      "Good for you! We are open!\n"
     ]
    }
   ],
   "source": [
    "restaurant = Restaurant(\"ABC\",\"XYZ\")\n",
    "print(restaurant.rest)\n",
    "print(restaurant.cuis)\n",
    "restaurant.desc()\n",
    "restaurant.open_restaurant()"
   ]
  },
  {
   "cell_type": "code",
   "execution_count": 70,
   "metadata": {},
   "outputs": [],
   "source": [
    "class Car:\n",
    "    def __init__(self,make,model,year):\n",
    "        self.make = make\n",
    "        self.model = model\n",
    "        self.year = year\n",
    "        self.meter = 0\n",
    "    def name(self):\n",
    "        longname = str(self.year)+' '+self.make+' '+self.model\n",
    "        return longname\n",
    "    def read_meter(self):\n",
    "        print(\"this car has :\",self.meter,\"Milage\")\n",
    "    def update(self,milage):\n",
    "        self.meter = milage"
   ]
  },
  {
   "cell_type": "code",
   "execution_count": 71,
   "metadata": {},
   "outputs": [
    {
     "name": "stdout",
     "output_type": "stream",
     "text": [
      "this car has : 40 Milage\n",
      "2015 Audi A1\n"
     ]
    }
   ],
   "source": [
    "car= Car(\"Audi\",\"A1\",2015)\n",
    "car.name()\n",
    "car.update(40)\n",
    "car.read_meter()\n",
    "print(car.name())\n"
   ]
  },
  {
   "cell_type": "code",
   "execution_count": null,
   "metadata": {},
   "outputs": [],
   "source": []
  }
 ],
 "metadata": {
  "kernelspec": {
   "display_name": "Python 3",
   "language": "python",
   "name": "python3"
  },
  "language_info": {
   "codemirror_mode": {
    "name": "ipython",
    "version": 3
   },
   "file_extension": ".py",
   "mimetype": "text/x-python",
   "name": "python",
   "nbconvert_exporter": "python",
   "pygments_lexer": "ipython3",
   "version": "3.6.5"
  }
 },
 "nbformat": 4,
 "nbformat_minor": 2
}
